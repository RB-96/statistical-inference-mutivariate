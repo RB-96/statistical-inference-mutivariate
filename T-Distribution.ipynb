{
 "cells": [
  {
   "cell_type": "markdown",
   "metadata": {},
   "source": [
    "# Give Sample size and get probability value"
   ]
  },
  {
   "cell_type": "code",
   "execution_count": 21,
   "metadata": {},
   "outputs": [
    {
     "name": "stdout",
     "output_type": "stream",
     "text": [
      "Enter sample size(<500):10\n",
      "probability = 0.8748\n"
     ]
    }
   ],
   "source": [
    "import math\n",
    "import scipy.integrate \n",
    "import numpy as np\n",
    "import statistics\n",
    "\n",
    "x=[]\n",
    "i=-10\n",
    "while i<=10:\n",
    "    i+=0.01\n",
    "    x.append(round(i,3))\n",
    "\n",
    "def numerator(k):\n",
    "    n = (k+1)/2\n",
    "    num = math.gamma(n)\n",
    "    return num\n",
    "\n",
    "def denominator(k):\n",
    "    n = k/2\n",
    "    temp = (k*math.pi)**0.5\n",
    "    d = temp*math.gamma(n)\n",
    "    return d\n",
    "\n",
    "def func(t,k):\n",
    "    n = -(k+1)/2\n",
    "    temp = (((t**2)/k)+1)\n",
    "    temp1 = temp ** n\n",
    "    return temp1\n",
    "\n",
    "def t_dist(t,k):\n",
    "    num = numerator(k)\n",
    "    denom = denominator(k)\n",
    "    temp = func(t,k)\n",
    "    pdf = (num/denom)*temp\n",
    "    return pdf\n",
    "\n",
    "\n",
    "#print(t_table)\n",
    "\n",
    "\n",
    "def main():\n",
    "    ninf = -float('inf')\n",
    "    k = 1\n",
    "    t_table=[]\n",
    "    while k<100:\n",
    "        for row in x:\n",
    "            probability, error = scipy.integrate.quad(t_dist, ninf, row, args=(k))\n",
    "            t_table.append([k,row,round(probability,5)])\n",
    "        k+=1\n",
    "    val = int(input('Enter sample size(<500):'))\n",
    "    sample = np.random.choice(t_table[1], val)\n",
    "    population_mean = np.mean(t_table[1])\n",
    "    sample_mean = np.mean(sample)\n",
    "    S = np.std(sample)\n",
    "    dof = val-1\n",
    "    \n",
    "    t_score = (sample_mean - population_mean)/(S/(dof ** 0.5))\n",
    "    \n",
    "    for row in t_table:\n",
    "        if round(t_score,2) == float(row[1]):\n",
    "            p = row[2]\n",
    "            print(f\"probability = {p}\")\n",
    "            break\n",
    "\n",
    "if __name__ == '__main__':\n",
    "    main()"
   ]
  },
  {
   "cell_type": "markdown",
   "metadata": {},
   "source": [
    "# Give the probability value and get t_score\n"
   ]
  },
  {
   "cell_type": "code",
   "execution_count": 23,
   "metadata": {},
   "outputs": [
    {
     "name": "stdout",
     "output_type": "stream",
     "text": [
      "Enter probability:0.84\n",
      "Enter degree of freedom:5\n",
      "t_value = 1.1\n"
     ]
    }
   ],
   "source": [
    "import math\n",
    "import scipy.integrate \n",
    "import numpy as np\n",
    "import statistics\n",
    "\n",
    "x=[]\n",
    "i=-10\n",
    "while i<=10:\n",
    "    i+=0.01\n",
    "    x.append(round(i,3))\n",
    "\n",
    "def numerator(k):\n",
    "    n = (k+1)/2\n",
    "    num = math.gamma(n)\n",
    "    return num\n",
    "\n",
    "def denominator(k):\n",
    "    n = k/2\n",
    "    temp = (k*math.pi)**0.5\n",
    "    d = temp*math.gamma(n)\n",
    "    return d\n",
    "\n",
    "def func(t,k):\n",
    "    n = -(k+1)/2\n",
    "    temp = (((t**2)/k)+1)\n",
    "    temp1 = temp ** n\n",
    "    return temp1\n",
    "\n",
    "def t_dist(t,k):\n",
    "    num = numerator(k)\n",
    "    denom = denominator(k)\n",
    "    temp = func(t,k)\n",
    "    pdf = (num/denom)*temp\n",
    "    return pdf\n",
    "\n",
    "def main():\n",
    "    ninf = -float('inf')\n",
    "    k = 1\n",
    "    t_table=[]\n",
    "    while k<100:\n",
    "        for row in x:\n",
    "            probability, error = scipy.integrate.quad(t_dist, ninf, row, args=(k))\n",
    "            t_table.append([k,row,round(probability,4)])\n",
    "        k+=1\n",
    "    val = float(input('Enter probability:'))\n",
    "    dof = int(input('Enter degree of freedom:'))\n",
    "    \n",
    "    for row in t_table:\n",
    "        if abs(val-row[2]) < 0.001 and dof == row[0]:\n",
    "            t=row[1]\n",
    "            print(f\"t_value = {t}\")\n",
    "            break\n",
    "\n",
    "if __name__ == '__main__':\n",
    "    main()"
   ]
  },
  {
   "cell_type": "code",
   "execution_count": null,
   "metadata": {},
   "outputs": [],
   "source": []
  }
 ],
 "metadata": {
  "kernelspec": {
   "display_name": "Python 3",
   "language": "python",
   "name": "python3"
  },
  "language_info": {
   "codemirror_mode": {
    "name": "ipython",
    "version": 3
   },
   "file_extension": ".py",
   "mimetype": "text/x-python",
   "name": "python",
   "nbconvert_exporter": "python",
   "pygments_lexer": "ipython3",
   "version": "3.7.4"
  }
 },
 "nbformat": 4,
 "nbformat_minor": 2
}

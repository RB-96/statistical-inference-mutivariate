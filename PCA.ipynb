{
  "nbformat": 4,
  "nbformat_minor": 0,
  "metadata": {
    "colab": {
      "name": "PCA/SVD.ipynb",
      "provenance": []
    },
    "kernelspec": {
      "name": "python3",
      "display_name": "Python 3"
    }
  },
  "cells": [
    {
      "cell_type": "markdown",
      "metadata": {
        "id": "oCgwEfDYFia3",
        "colab_type": "text"
      },
      "source": [
        "# ***Importing exel file***"
      ]
    },
    {
      "cell_type": "code",
      "metadata": {
        "id": "NB4siIAeFXDM",
        "colab_type": "code",
        "colab": {}
      },
      "source": [
        "import pandas as pd\n",
        "import numpy as np\n",
        "from sklearn.preprocessing import StandardScaler\n",
        "from sklearn.decomposition import PCA\n",
        "import matplotlib.pyplot as plt\n",
        "from mpl_toolkits.mplot3d import Axes3D\n"
      ],
      "execution_count": 178,
      "outputs": []
    },
    {
      "cell_type": "code",
      "metadata": {
        "id": "vv-48GRCXNRV",
        "colab_type": "code",
        "colab": {
          "base_uri": "https://localhost:8080/",
          "height": 85
        },
        "outputId": "b267bda6-28da-47a8-dcfe-b5be63794b8d"
      },
      "source": [
        "df = pd.read_excel('BodyFat.xls', usecols = \"B:Q\")\n",
        "df.keys()"
      ],
      "execution_count": 287,
      "outputs": [
        {
          "output_type": "execute_result",
          "data": {
            "text/plain": [
              "Index(['BODYFAT', 'DENSITY', 'AGE', 'WEIGHT', 'HEIGHT', 'ADIPOSITY', 'NECK',\n",
              "       'CHEST', 'ABDOMEN', 'HIP', 'THIGH', 'KNEE', 'ANKLE', 'BICEPS',\n",
              "       'FOREARM', 'WRIST'],\n",
              "      dtype='object')"
            ]
          },
          "metadata": {
            "tags": []
          },
          "execution_count": 287
        }
      ]
    },
    {
      "cell_type": "markdown",
      "metadata": {
        "id": "hrjjDpQEXwqU",
        "colab_type": "text"
      },
      "source": [
        "Covariance matrix"
      ]
    },
    {
      "cell_type": "code",
      "metadata": {
        "id": "1zGlepszradQ",
        "colab_type": "code",
        "colab": {
          "base_uri": "https://localhost:8080/",
          "height": 565
        },
        "outputId": "a1966283-5933-428a-95e5-9646d2b45ced"
      },
      "source": [
        "X = df\n",
        "cov_mat = X.cov()\n",
        "cov_mat"
      ],
      "execution_count": 288,
      "outputs": [
        {
          "output_type": "execute_result",
          "data": {
            "text/html": [
              "<div>\n",
              "<style scoped>\n",
              "    .dataframe tbody tr th:only-of-type {\n",
              "        vertical-align: middle;\n",
              "    }\n",
              "\n",
              "    .dataframe tbody tr th {\n",
              "        vertical-align: top;\n",
              "    }\n",
              "\n",
              "    .dataframe thead th {\n",
              "        text-align: right;\n",
              "    }\n",
              "</style>\n",
              "<table border=\"1\" class=\"dataframe\">\n",
              "  <thead>\n",
              "    <tr style=\"text-align: right;\">\n",
              "      <th></th>\n",
              "      <th>BODYFAT</th>\n",
              "      <th>DENSITY</th>\n",
              "      <th>AGE</th>\n",
              "      <th>WEIGHT</th>\n",
              "      <th>HEIGHT</th>\n",
              "      <th>ADIPOSITY</th>\n",
              "      <th>NECK</th>\n",
              "      <th>CHEST</th>\n",
              "      <th>ABDOMEN</th>\n",
              "      <th>HIP</th>\n",
              "      <th>THIGH</th>\n",
              "      <th>KNEE</th>\n",
              "      <th>ANKLE</th>\n",
              "      <th>BICEPS</th>\n",
              "      <th>FOREARM</th>\n",
              "      <th>WRIST</th>\n",
              "    </tr>\n",
              "  </thead>\n",
              "  <tbody>\n",
              "    <tr>\n",
              "      <th>BODYFAT</th>\n",
              "      <td>60.075763</td>\n",
              "      <td>-0.145753</td>\n",
              "      <td>28.245483</td>\n",
              "      <td>139.671527</td>\n",
              "      <td>-2.529755</td>\n",
              "      <td>20.584749</td>\n",
              "      <td>9.260466</td>\n",
              "      <td>45.928905</td>\n",
              "      <td>68.007997</td>\n",
              "      <td>34.743601</td>\n",
              "      <td>22.839571</td>\n",
              "      <td>9.492320</td>\n",
              "      <td>3.504689</td>\n",
              "      <td>11.545529</td>\n",
              "      <td>5.689682</td>\n",
              "      <td>2.515065</td>\n",
              "    </tr>\n",
              "    <tr>\n",
              "      <th>DENSITY</th>\n",
              "      <td>-0.145753</td>\n",
              "      <td>0.000362</td>\n",
              "      <td>-0.066587</td>\n",
              "      <td>-0.332269</td>\n",
              "      <td>0.006823</td>\n",
              "      <td>-0.049623</td>\n",
              "      <td>-0.021881</td>\n",
              "      <td>-0.109519</td>\n",
              "      <td>-0.163959</td>\n",
              "      <td>-0.083078</td>\n",
              "      <td>-0.055262</td>\n",
              "      <td>-0.022722</td>\n",
              "      <td>-0.008544</td>\n",
              "      <td>-0.028008</td>\n",
              "      <td>-0.013523</td>\n",
              "      <td>-0.005787</td>\n",
              "    </tr>\n",
              "    <tr>\n",
              "      <th>AGE</th>\n",
              "      <td>28.245483</td>\n",
              "      <td>-0.066587</td>\n",
              "      <td>158.811405</td>\n",
              "      <td>-4.720686</td>\n",
              "      <td>-7.923046</td>\n",
              "      <td>5.464025</td>\n",
              "      <td>3.477171</td>\n",
              "      <td>18.746223</td>\n",
              "      <td>31.310050</td>\n",
              "      <td>-4.544071</td>\n",
              "      <td>-13.238356</td>\n",
              "      <td>0.532366</td>\n",
              "      <td>-2.243948</td>\n",
              "      <td>-1.567215</td>\n",
              "      <td>-2.165925</td>\n",
              "      <td>2.512204</td>\n",
              "    </tr>\n",
              "    <tr>\n",
              "      <th>WEIGHT</th>\n",
              "      <td>139.671527</td>\n",
              "      <td>-0.332269</td>\n",
              "      <td>-4.720686</td>\n",
              "      <td>863.722719</td>\n",
              "      <td>33.185647</td>\n",
              "      <td>95.137383</td>\n",
              "      <td>59.348441</td>\n",
              "      <td>221.548750</td>\n",
              "      <td>281.410541</td>\n",
              "      <td>198.099047</td>\n",
              "      <td>134.032185</td>\n",
              "      <td>60.473281</td>\n",
              "      <td>30.568587</td>\n",
              "      <td>71.071090</td>\n",
              "      <td>37.431343</td>\n",
              "      <td>20.023036</td>\n",
              "    </tr>\n",
              "    <tr>\n",
              "      <th>HEIGHT</th>\n",
              "      <td>-2.529755</td>\n",
              "      <td>0.006823</td>\n",
              "      <td>-7.923046</td>\n",
              "      <td>33.185647</td>\n",
              "      <td>13.416513</td>\n",
              "      <td>-0.332605</td>\n",
              "      <td>2.259054</td>\n",
              "      <td>4.165407</td>\n",
              "      <td>3.468334</td>\n",
              "      <td>4.471301</td>\n",
              "      <td>2.854390</td>\n",
              "      <td>2.527020</td>\n",
              "      <td>1.643569</td>\n",
              "      <td>2.299789</td>\n",
              "      <td>1.692347</td>\n",
              "      <td>1.101330</td>\n",
              "    </tr>\n",
              "    <tr>\n",
              "      <th>ADIPOSITY</th>\n",
              "      <td>20.584749</td>\n",
              "      <td>-0.049623</td>\n",
              "      <td>5.464025</td>\n",
              "      <td>95.137383</td>\n",
              "      <td>-0.332605</td>\n",
              "      <td>13.308712</td>\n",
              "      <td>6.898222</td>\n",
              "      <td>28.042649</td>\n",
              "      <td>36.343465</td>\n",
              "      <td>23.084485</td>\n",
              "      <td>15.565277</td>\n",
              "      <td>6.279158</td>\n",
              "      <td>3.093537</td>\n",
              "      <td>8.226603</td>\n",
              "      <td>4.117792</td>\n",
              "      <td>2.131726</td>\n",
              "    </tr>\n",
              "    <tr>\n",
              "      <th>NECK</th>\n",
              "      <td>9.260466</td>\n",
              "      <td>-0.021881</td>\n",
              "      <td>3.477171</td>\n",
              "      <td>59.348441</td>\n",
              "      <td>2.259054</td>\n",
              "      <td>6.898222</td>\n",
              "      <td>5.909339</td>\n",
              "      <td>16.084217</td>\n",
              "      <td>19.766422</td>\n",
              "      <td>12.799440</td>\n",
              "      <td>8.878613</td>\n",
              "      <td>3.942235</td>\n",
              "      <td>1.968983</td>\n",
              "      <td>5.369868</td>\n",
              "      <td>3.063497</td>\n",
              "      <td>1.690357</td>\n",
              "    </tr>\n",
              "    <tr>\n",
              "      <th>CHEST</th>\n",
              "      <td>45.928905</td>\n",
              "      <td>-0.109519</td>\n",
              "      <td>18.746223</td>\n",
              "      <td>221.548750</td>\n",
              "      <td>4.165407</td>\n",
              "      <td>28.042649</td>\n",
              "      <td>16.084217</td>\n",
              "      <td>71.072918</td>\n",
              "      <td>83.254656</td>\n",
              "      <td>50.093988</td>\n",
              "      <td>32.303242</td>\n",
              "      <td>14.629275</td>\n",
              "      <td>6.901297</td>\n",
              "      <td>18.540367</td>\n",
              "      <td>9.883467</td>\n",
              "      <td>5.195850</td>\n",
              "    </tr>\n",
              "    <tr>\n",
              "      <th>ABDOMEN</th>\n",
              "      <td>68.007997</td>\n",
              "      <td>-0.163959</td>\n",
              "      <td>31.310050</td>\n",
              "      <td>281.410541</td>\n",
              "      <td>3.468334</td>\n",
              "      <td>36.343465</td>\n",
              "      <td>19.766422</td>\n",
              "      <td>83.254656</td>\n",
              "      <td>116.274745</td>\n",
              "      <td>67.522123</td>\n",
              "      <td>43.399068</td>\n",
              "      <td>19.171571</td>\n",
              "      <td>8.283173</td>\n",
              "      <td>22.315796</td>\n",
              "      <td>10.966889</td>\n",
              "      <td>6.239802</td>\n",
              "    </tr>\n",
              "    <tr>\n",
              "      <th>HIP</th>\n",
              "      <td>34.743601</td>\n",
              "      <td>-0.083078</td>\n",
              "      <td>-4.544071</td>\n",
              "      <td>198.099047</td>\n",
              "      <td>4.471301</td>\n",
              "      <td>23.084485</td>\n",
              "      <td>12.799440</td>\n",
              "      <td>50.093988</td>\n",
              "      <td>67.522123</td>\n",
              "      <td>51.323722</td>\n",
              "      <td>33.714832</td>\n",
              "      <td>14.228213</td>\n",
              "      <td>6.780108</td>\n",
              "      <td>16.001243</td>\n",
              "      <td>7.889814</td>\n",
              "      <td>4.214200</td>\n",
              "    </tr>\n",
              "    <tr>\n",
              "      <th>THIGH</th>\n",
              "      <td>22.839571</td>\n",
              "      <td>-0.055262</td>\n",
              "      <td>-13.238356</td>\n",
              "      <td>134.032185</td>\n",
              "      <td>2.854390</td>\n",
              "      <td>15.565277</td>\n",
              "      <td>8.878613</td>\n",
              "      <td>32.303242</td>\n",
              "      <td>43.399068</td>\n",
              "      <td>33.714832</td>\n",
              "      <td>27.561996</td>\n",
              "      <td>10.118981</td>\n",
              "      <td>4.803173</td>\n",
              "      <td>12.078207</td>\n",
              "      <td>6.013363</td>\n",
              "      <td>2.738268</td>\n",
              "    </tr>\n",
              "    <tr>\n",
              "      <th>KNEE</th>\n",
              "      <td>9.492320</td>\n",
              "      <td>-0.022722</td>\n",
              "      <td>0.532366</td>\n",
              "      <td>60.473281</td>\n",
              "      <td>2.527020</td>\n",
              "      <td>6.279158</td>\n",
              "      <td>3.942235</td>\n",
              "      <td>14.629275</td>\n",
              "      <td>19.171571</td>\n",
              "      <td>14.228213</td>\n",
              "      <td>10.118981</td>\n",
              "      <td>5.816801</td>\n",
              "      <td>2.500102</td>\n",
              "      <td>4.945563</td>\n",
              "      <td>2.709177</td>\n",
              "      <td>1.496221</td>\n",
              "    </tr>\n",
              "    <tr>\n",
              "      <th>ANKLE</th>\n",
              "      <td>3.504689</td>\n",
              "      <td>-0.008544</td>\n",
              "      <td>-2.243948</td>\n",
              "      <td>30.568587</td>\n",
              "      <td>1.643569</td>\n",
              "      <td>3.093537</td>\n",
              "      <td>1.968983</td>\n",
              "      <td>6.901297</td>\n",
              "      <td>8.283173</td>\n",
              "      <td>6.780108</td>\n",
              "      <td>4.803173</td>\n",
              "      <td>2.500102</td>\n",
              "      <td>2.872664</td>\n",
              "      <td>2.482813</td>\n",
              "      <td>1.435186</td>\n",
              "      <td>0.895905</td>\n",
              "    </tr>\n",
              "    <tr>\n",
              "      <th>BICEPS</th>\n",
              "      <td>11.545529</td>\n",
              "      <td>-0.028008</td>\n",
              "      <td>-1.567215</td>\n",
              "      <td>71.071090</td>\n",
              "      <td>2.299789</td>\n",
              "      <td>8.226603</td>\n",
              "      <td>5.369868</td>\n",
              "      <td>18.540367</td>\n",
              "      <td>22.315796</td>\n",
              "      <td>16.001243</td>\n",
              "      <td>12.078207</td>\n",
              "      <td>4.945563</td>\n",
              "      <td>2.482813</td>\n",
              "      <td>9.128095</td>\n",
              "      <td>4.140789</td>\n",
              "      <td>1.782986</td>\n",
              "    </tr>\n",
              "    <tr>\n",
              "      <th>FOREARM</th>\n",
              "      <td>5.689682</td>\n",
              "      <td>-0.013523</td>\n",
              "      <td>-2.165925</td>\n",
              "      <td>37.431343</td>\n",
              "      <td>1.692347</td>\n",
              "      <td>4.117792</td>\n",
              "      <td>3.063497</td>\n",
              "      <td>9.883467</td>\n",
              "      <td>10.966889</td>\n",
              "      <td>7.889814</td>\n",
              "      <td>6.013363</td>\n",
              "      <td>2.709177</td>\n",
              "      <td>1.435186</td>\n",
              "      <td>4.140789</td>\n",
              "      <td>4.083193</td>\n",
              "      <td>1.104705</td>\n",
              "    </tr>\n",
              "    <tr>\n",
              "      <th>WRIST</th>\n",
              "      <td>2.515065</td>\n",
              "      <td>-0.005787</td>\n",
              "      <td>2.512204</td>\n",
              "      <td>20.023036</td>\n",
              "      <td>1.101330</td>\n",
              "      <td>2.131726</td>\n",
              "      <td>1.690357</td>\n",
              "      <td>5.195850</td>\n",
              "      <td>6.239802</td>\n",
              "      <td>4.214200</td>\n",
              "      <td>2.738268</td>\n",
              "      <td>1.496221</td>\n",
              "      <td>0.895905</td>\n",
              "      <td>1.782986</td>\n",
              "      <td>1.104705</td>\n",
              "      <td>0.871581</td>\n",
              "    </tr>\n",
              "  </tbody>\n",
              "</table>\n",
              "</div>"
            ],
            "text/plain": [
              "              BODYFAT   DENSITY         AGE  ...     BICEPS    FOREARM      WRIST\n",
              "BODYFAT     60.075763 -0.145753   28.245483  ...  11.545529   5.689682   2.515065\n",
              "DENSITY     -0.145753  0.000362   -0.066587  ...  -0.028008  -0.013523  -0.005787\n",
              "AGE         28.245483 -0.066587  158.811405  ...  -1.567215  -2.165925   2.512204\n",
              "WEIGHT     139.671527 -0.332269   -4.720686  ...  71.071090  37.431343  20.023036\n",
              "HEIGHT      -2.529755  0.006823   -7.923046  ...   2.299789   1.692347   1.101330\n",
              "ADIPOSITY   20.584749 -0.049623    5.464025  ...   8.226603   4.117792   2.131726\n",
              "NECK         9.260466 -0.021881    3.477171  ...   5.369868   3.063497   1.690357\n",
              "CHEST       45.928905 -0.109519   18.746223  ...  18.540367   9.883467   5.195850\n",
              "ABDOMEN     68.007997 -0.163959   31.310050  ...  22.315796  10.966889   6.239802\n",
              "HIP         34.743601 -0.083078   -4.544071  ...  16.001243   7.889814   4.214200\n",
              "THIGH       22.839571 -0.055262  -13.238356  ...  12.078207   6.013363   2.738268\n",
              "KNEE         9.492320 -0.022722    0.532366  ...   4.945563   2.709177   1.496221\n",
              "ANKLE        3.504689 -0.008544   -2.243948  ...   2.482813   1.435186   0.895905\n",
              "BICEPS      11.545529 -0.028008   -1.567215  ...   9.128095   4.140789   1.782986\n",
              "FOREARM      5.689682 -0.013523   -2.165925  ...   4.140789   4.083193   1.104705\n",
              "WRIST        2.515065 -0.005787    2.512204  ...   1.782986   1.104705   0.871581\n",
              "\n",
              "[16 rows x 16 columns]"
            ]
          },
          "metadata": {
            "tags": []
          },
          "execution_count": 288
        }
      ]
    },
    {
      "cell_type": "markdown",
      "metadata": {
        "id": "I1ljSrjBX2ii",
        "colab_type": "text"
      },
      "source": [
        "Correlation matrix"
      ]
    },
    {
      "cell_type": "code",
      "metadata": {
        "id": "9eY5XoFbSI_l",
        "colab_type": "code",
        "colab": {
          "base_uri": "https://localhost:8080/",
          "height": 565
        },
        "outputId": "803f11d8-5d52-4f31-e973-bcee2078922b"
      },
      "source": [
        "Corr_mat = X.corr(method='pearson')\n",
        "Corr_mat"
      ],
      "execution_count": 289,
      "outputs": [
        {
          "output_type": "execute_result",
          "data": {
            "text/html": [
              "<div>\n",
              "<style scoped>\n",
              "    .dataframe tbody tr th:only-of-type {\n",
              "        vertical-align: middle;\n",
              "    }\n",
              "\n",
              "    .dataframe tbody tr th {\n",
              "        vertical-align: top;\n",
              "    }\n",
              "\n",
              "    .dataframe thead th {\n",
              "        text-align: right;\n",
              "    }\n",
              "</style>\n",
              "<table border=\"1\" class=\"dataframe\">\n",
              "  <thead>\n",
              "    <tr style=\"text-align: right;\">\n",
              "      <th></th>\n",
              "      <th>BODYFAT</th>\n",
              "      <th>DENSITY</th>\n",
              "      <th>AGE</th>\n",
              "      <th>WEIGHT</th>\n",
              "      <th>HEIGHT</th>\n",
              "      <th>ADIPOSITY</th>\n",
              "      <th>NECK</th>\n",
              "      <th>CHEST</th>\n",
              "      <th>ABDOMEN</th>\n",
              "      <th>HIP</th>\n",
              "      <th>THIGH</th>\n",
              "      <th>KNEE</th>\n",
              "      <th>ANKLE</th>\n",
              "      <th>BICEPS</th>\n",
              "      <th>FOREARM</th>\n",
              "      <th>WRIST</th>\n",
              "    </tr>\n",
              "  </thead>\n",
              "  <tbody>\n",
              "    <tr>\n",
              "      <th>BODYFAT</th>\n",
              "      <td>1.000000</td>\n",
              "      <td>-0.988087</td>\n",
              "      <td>0.289174</td>\n",
              "      <td>0.613156</td>\n",
              "      <td>-0.089106</td>\n",
              "      <td>0.727994</td>\n",
              "      <td>0.491489</td>\n",
              "      <td>0.702885</td>\n",
              "      <td>0.813706</td>\n",
              "      <td>0.625700</td>\n",
              "      <td>0.561284</td>\n",
              "      <td>0.507786</td>\n",
              "      <td>0.266783</td>\n",
              "      <td>0.493031</td>\n",
              "      <td>0.363277</td>\n",
              "      <td>0.347573</td>\n",
              "    </tr>\n",
              "    <tr>\n",
              "      <th>DENSITY</th>\n",
              "      <td>-0.988087</td>\n",
              "      <td>1.000000</td>\n",
              "      <td>-0.277637</td>\n",
              "      <td>-0.594062</td>\n",
              "      <td>0.097881</td>\n",
              "      <td>-0.714732</td>\n",
              "      <td>-0.472966</td>\n",
              "      <td>-0.682599</td>\n",
              "      <td>-0.798955</td>\n",
              "      <td>-0.609331</td>\n",
              "      <td>-0.553091</td>\n",
              "      <td>-0.495040</td>\n",
              "      <td>-0.264890</td>\n",
              "      <td>-0.487109</td>\n",
              "      <td>-0.351648</td>\n",
              "      <td>-0.325716</td>\n",
              "    </tr>\n",
              "    <tr>\n",
              "      <th>AGE</th>\n",
              "      <td>0.289174</td>\n",
              "      <td>-0.277637</td>\n",
              "      <td>1.000000</td>\n",
              "      <td>-0.012746</td>\n",
              "      <td>-0.171645</td>\n",
              "      <td>0.118851</td>\n",
              "      <td>0.113505</td>\n",
              "      <td>0.176450</td>\n",
              "      <td>0.230409</td>\n",
              "      <td>-0.050332</td>\n",
              "      <td>-0.200096</td>\n",
              "      <td>0.017516</td>\n",
              "      <td>-0.105058</td>\n",
              "      <td>-0.041162</td>\n",
              "      <td>-0.085056</td>\n",
              "      <td>0.213531</td>\n",
              "    </tr>\n",
              "    <tr>\n",
              "      <th>WEIGHT</th>\n",
              "      <td>0.613156</td>\n",
              "      <td>-0.594062</td>\n",
              "      <td>-0.012746</td>\n",
              "      <td>1.000000</td>\n",
              "      <td>0.308279</td>\n",
              "      <td>0.887352</td>\n",
              "      <td>0.830716</td>\n",
              "      <td>0.894191</td>\n",
              "      <td>0.887995</td>\n",
              "      <td>0.940884</td>\n",
              "      <td>0.868694</td>\n",
              "      <td>0.853167</td>\n",
              "      <td>0.613685</td>\n",
              "      <td>0.800416</td>\n",
              "      <td>0.630301</td>\n",
              "      <td>0.729775</td>\n",
              "    </tr>\n",
              "    <tr>\n",
              "      <th>HEIGHT</th>\n",
              "      <td>-0.089106</td>\n",
              "      <td>0.097881</td>\n",
              "      <td>-0.171645</td>\n",
              "      <td>0.308279</td>\n",
              "      <td>1.000000</td>\n",
              "      <td>-0.024891</td>\n",
              "      <td>0.253710</td>\n",
              "      <td>0.134892</td>\n",
              "      <td>0.087813</td>\n",
              "      <td>0.170394</td>\n",
              "      <td>0.148436</td>\n",
              "      <td>0.286053</td>\n",
              "      <td>0.264744</td>\n",
              "      <td>0.207816</td>\n",
              "      <td>0.228649</td>\n",
              "      <td>0.322065</td>\n",
              "    </tr>\n",
              "    <tr>\n",
              "      <th>ADIPOSITY</th>\n",
              "      <td>0.727994</td>\n",
              "      <td>-0.714732</td>\n",
              "      <td>0.118851</td>\n",
              "      <td>0.887352</td>\n",
              "      <td>-0.024891</td>\n",
              "      <td>1.000000</td>\n",
              "      <td>0.777857</td>\n",
              "      <td>0.911799</td>\n",
              "      <td>0.923880</td>\n",
              "      <td>0.883269</td>\n",
              "      <td>0.812706</td>\n",
              "      <td>0.713660</td>\n",
              "      <td>0.500317</td>\n",
              "      <td>0.746384</td>\n",
              "      <td>0.558594</td>\n",
              "      <td>0.625907</td>\n",
              "    </tr>\n",
              "    <tr>\n",
              "      <th>NECK</th>\n",
              "      <td>0.491489</td>\n",
              "      <td>-0.472966</td>\n",
              "      <td>0.113505</td>\n",
              "      <td>0.830716</td>\n",
              "      <td>0.253710</td>\n",
              "      <td>0.777857</td>\n",
              "      <td>1.000000</td>\n",
              "      <td>0.784835</td>\n",
              "      <td>0.754077</td>\n",
              "      <td>0.734958</td>\n",
              "      <td>0.695697</td>\n",
              "      <td>0.672405</td>\n",
              "      <td>0.477892</td>\n",
              "      <td>0.731146</td>\n",
              "      <td>0.623660</td>\n",
              "      <td>0.744826</td>\n",
              "    </tr>\n",
              "    <tr>\n",
              "      <th>CHEST</th>\n",
              "      <td>0.702885</td>\n",
              "      <td>-0.682599</td>\n",
              "      <td>0.176450</td>\n",
              "      <td>0.894191</td>\n",
              "      <td>0.134892</td>\n",
              "      <td>0.911799</td>\n",
              "      <td>0.784835</td>\n",
              "      <td>1.000000</td>\n",
              "      <td>0.915828</td>\n",
              "      <td>0.829420</td>\n",
              "      <td>0.729859</td>\n",
              "      <td>0.719496</td>\n",
              "      <td>0.482988</td>\n",
              "      <td>0.727907</td>\n",
              "      <td>0.580173</td>\n",
              "      <td>0.660162</td>\n",
              "    </tr>\n",
              "    <tr>\n",
              "      <th>ABDOMEN</th>\n",
              "      <td>0.813706</td>\n",
              "      <td>-0.798955</td>\n",
              "      <td>0.230409</td>\n",
              "      <td>0.887995</td>\n",
              "      <td>0.087813</td>\n",
              "      <td>0.923880</td>\n",
              "      <td>0.754077</td>\n",
              "      <td>0.915828</td>\n",
              "      <td>1.000000</td>\n",
              "      <td>0.874066</td>\n",
              "      <td>0.766624</td>\n",
              "      <td>0.737179</td>\n",
              "      <td>0.453223</td>\n",
              "      <td>0.684983</td>\n",
              "      <td>0.503316</td>\n",
              "      <td>0.619832</td>\n",
              "    </tr>\n",
              "    <tr>\n",
              "      <th>HIP</th>\n",
              "      <td>0.625700</td>\n",
              "      <td>-0.609331</td>\n",
              "      <td>-0.050332</td>\n",
              "      <td>0.940884</td>\n",
              "      <td>0.170394</td>\n",
              "      <td>0.883269</td>\n",
              "      <td>0.734958</td>\n",
              "      <td>0.829420</td>\n",
              "      <td>0.874066</td>\n",
              "      <td>1.000000</td>\n",
              "      <td>0.896410</td>\n",
              "      <td>0.823473</td>\n",
              "      <td>0.558387</td>\n",
              "      <td>0.739273</td>\n",
              "      <td>0.545014</td>\n",
              "      <td>0.630090</td>\n",
              "    </tr>\n",
              "    <tr>\n",
              "      <th>THIGH</th>\n",
              "      <td>0.561284</td>\n",
              "      <td>-0.553091</td>\n",
              "      <td>-0.200096</td>\n",
              "      <td>0.868694</td>\n",
              "      <td>0.148436</td>\n",
              "      <td>0.812706</td>\n",
              "      <td>0.695697</td>\n",
              "      <td>0.729859</td>\n",
              "      <td>0.766624</td>\n",
              "      <td>0.896410</td>\n",
              "      <td>1.000000</td>\n",
              "      <td>0.799170</td>\n",
              "      <td>0.539797</td>\n",
              "      <td>0.761477</td>\n",
              "      <td>0.566842</td>\n",
              "      <td>0.558685</td>\n",
              "    </tr>\n",
              "    <tr>\n",
              "      <th>KNEE</th>\n",
              "      <td>0.507786</td>\n",
              "      <td>-0.495040</td>\n",
              "      <td>0.017516</td>\n",
              "      <td>0.853167</td>\n",
              "      <td>0.286053</td>\n",
              "      <td>0.713660</td>\n",
              "      <td>0.672405</td>\n",
              "      <td>0.719496</td>\n",
              "      <td>0.737179</td>\n",
              "      <td>0.823473</td>\n",
              "      <td>0.799170</td>\n",
              "      <td>1.000000</td>\n",
              "      <td>0.611608</td>\n",
              "      <td>0.678709</td>\n",
              "      <td>0.555898</td>\n",
              "      <td>0.664507</td>\n",
              "    </tr>\n",
              "    <tr>\n",
              "      <th>ANKLE</th>\n",
              "      <td>0.266783</td>\n",
              "      <td>-0.264890</td>\n",
              "      <td>-0.105058</td>\n",
              "      <td>0.613685</td>\n",
              "      <td>0.264744</td>\n",
              "      <td>0.500317</td>\n",
              "      <td>0.477892</td>\n",
              "      <td>0.482988</td>\n",
              "      <td>0.453223</td>\n",
              "      <td>0.558387</td>\n",
              "      <td>0.539797</td>\n",
              "      <td>0.611608</td>\n",
              "      <td>1.000000</td>\n",
              "      <td>0.484855</td>\n",
              "      <td>0.419050</td>\n",
              "      <td>0.566195</td>\n",
              "    </tr>\n",
              "    <tr>\n",
              "      <th>BICEPS</th>\n",
              "      <td>0.493031</td>\n",
              "      <td>-0.487109</td>\n",
              "      <td>-0.041162</td>\n",
              "      <td>0.800416</td>\n",
              "      <td>0.207816</td>\n",
              "      <td>0.746384</td>\n",
              "      <td>0.731146</td>\n",
              "      <td>0.727907</td>\n",
              "      <td>0.684983</td>\n",
              "      <td>0.739273</td>\n",
              "      <td>0.761477</td>\n",
              "      <td>0.678709</td>\n",
              "      <td>0.484855</td>\n",
              "      <td>1.000000</td>\n",
              "      <td>0.678255</td>\n",
              "      <td>0.632126</td>\n",
              "    </tr>\n",
              "    <tr>\n",
              "      <th>FOREARM</th>\n",
              "      <td>0.363277</td>\n",
              "      <td>-0.351648</td>\n",
              "      <td>-0.085056</td>\n",
              "      <td>0.630301</td>\n",
              "      <td>0.228649</td>\n",
              "      <td>0.558594</td>\n",
              "      <td>0.623660</td>\n",
              "      <td>0.580173</td>\n",
              "      <td>0.503316</td>\n",
              "      <td>0.545014</td>\n",
              "      <td>0.566842</td>\n",
              "      <td>0.555898</td>\n",
              "      <td>0.419050</td>\n",
              "      <td>0.678255</td>\n",
              "      <td>1.000000</td>\n",
              "      <td>0.585588</td>\n",
              "    </tr>\n",
              "    <tr>\n",
              "      <th>WRIST</th>\n",
              "      <td>0.347573</td>\n",
              "      <td>-0.325716</td>\n",
              "      <td>0.213531</td>\n",
              "      <td>0.729775</td>\n",
              "      <td>0.322065</td>\n",
              "      <td>0.625907</td>\n",
              "      <td>0.744826</td>\n",
              "      <td>0.660162</td>\n",
              "      <td>0.619832</td>\n",
              "      <td>0.630090</td>\n",
              "      <td>0.558685</td>\n",
              "      <td>0.664507</td>\n",
              "      <td>0.566195</td>\n",
              "      <td>0.632126</td>\n",
              "      <td>0.585588</td>\n",
              "      <td>1.000000</td>\n",
              "    </tr>\n",
              "  </tbody>\n",
              "</table>\n",
              "</div>"
            ],
            "text/plain": [
              "            BODYFAT   DENSITY       AGE  ...    BICEPS   FOREARM     WRIST\n",
              "BODYFAT    1.000000 -0.988087  0.289174  ...  0.493031  0.363277  0.347573\n",
              "DENSITY   -0.988087  1.000000 -0.277637  ... -0.487109 -0.351648 -0.325716\n",
              "AGE        0.289174 -0.277637  1.000000  ... -0.041162 -0.085056  0.213531\n",
              "WEIGHT     0.613156 -0.594062 -0.012746  ...  0.800416  0.630301  0.729775\n",
              "HEIGHT    -0.089106  0.097881 -0.171645  ...  0.207816  0.228649  0.322065\n",
              "ADIPOSITY  0.727994 -0.714732  0.118851  ...  0.746384  0.558594  0.625907\n",
              "NECK       0.491489 -0.472966  0.113505  ...  0.731146  0.623660  0.744826\n",
              "CHEST      0.702885 -0.682599  0.176450  ...  0.727907  0.580173  0.660162\n",
              "ABDOMEN    0.813706 -0.798955  0.230409  ...  0.684983  0.503316  0.619832\n",
              "HIP        0.625700 -0.609331 -0.050332  ...  0.739273  0.545014  0.630090\n",
              "THIGH      0.561284 -0.553091 -0.200096  ...  0.761477  0.566842  0.558685\n",
              "KNEE       0.507786 -0.495040  0.017516  ...  0.678709  0.555898  0.664507\n",
              "ANKLE      0.266783 -0.264890 -0.105058  ...  0.484855  0.419050  0.566195\n",
              "BICEPS     0.493031 -0.487109 -0.041162  ...  1.000000  0.678255  0.632126\n",
              "FOREARM    0.363277 -0.351648 -0.085056  ...  0.678255  1.000000  0.585588\n",
              "WRIST      0.347573 -0.325716  0.213531  ...  0.632126  0.585588  1.000000\n",
              "\n",
              "[16 rows x 16 columns]"
            ]
          },
          "metadata": {
            "tags": []
          },
          "execution_count": 289
        }
      ]
    },
    {
      "cell_type": "markdown",
      "metadata": {
        "id": "-b4tVitPYDEu",
        "colab_type": "text"
      },
      "source": [
        "# ***Applying PCA library***"
      ]
    },
    {
      "cell_type": "code",
      "metadata": {
        "id": "2h2xydVcUad6",
        "colab_type": "code",
        "colab": {}
      },
      "source": [
        ""
      ],
      "execution_count": 289,
      "outputs": []
    },
    {
      "cell_type": "code",
      "metadata": {
        "id": "LFBoc2fKY5OA",
        "colab_type": "code",
        "colab": {}
      },
      "source": [
        "Scaler = StandardScaler()"
      ],
      "execution_count": 290,
      "outputs": []
    },
    {
      "cell_type": "code",
      "metadata": {
        "id": "WXUt-WMNY-lf",
        "colab_type": "code",
        "colab": {
          "base_uri": "https://localhost:8080/",
          "height": 34
        },
        "outputId": "1e81f54d-ac4f-4361-f2f0-77804601bcc9"
      },
      "source": [
        "Scaler.fit(df)"
      ],
      "execution_count": 291,
      "outputs": [
        {
          "output_type": "execute_result",
          "data": {
            "text/plain": [
              "StandardScaler(copy=True, with_mean=True, with_std=True)"
            ]
          },
          "metadata": {
            "tags": []
          },
          "execution_count": 291
        }
      ]
    },
    {
      "cell_type": "code",
      "metadata": {
        "id": "V-wUurX_ZE61",
        "colab_type": "code",
        "colab": {}
      },
      "source": [
        "Scaled_data = Scaler.transform(df)"
      ],
      "execution_count": 292,
      "outputs": []
    },
    {
      "cell_type": "code",
      "metadata": {
        "id": "_aouGVNRZcDh",
        "colab_type": "code",
        "colab": {}
      },
      "source": [
        "pca = PCA(n_components=3)"
      ],
      "execution_count": 293,
      "outputs": []
    },
    {
      "cell_type": "code",
      "metadata": {
        "id": "Ph07LKWPZhax",
        "colab_type": "code",
        "colab": {
          "base_uri": "https://localhost:8080/",
          "height": 51
        },
        "outputId": "4fcada1c-f577-42ff-f8f7-a7239be35e8d"
      },
      "source": [
        "pca.fit(Scaled_data)"
      ],
      "execution_count": 294,
      "outputs": [
        {
          "output_type": "execute_result",
          "data": {
            "text/plain": [
              "PCA(copy=True, iterated_power='auto', n_components=3, random_state=None,\n",
              "    svd_solver='auto', tol=0.0, whiten=False)"
            ]
          },
          "metadata": {
            "tags": []
          },
          "execution_count": 294
        }
      ]
    },
    {
      "cell_type": "code",
      "metadata": {
        "id": "ce_ROkHgZn7K",
        "colab_type": "code",
        "colab": {}
      },
      "source": [
        "x_pca = pca.transform(Scaled_data)"
      ],
      "execution_count": 295,
      "outputs": []
    },
    {
      "cell_type": "code",
      "metadata": {
        "id": "-CeUC9hJaCER",
        "colab_type": "code",
        "colab": {
          "base_uri": "https://localhost:8080/",
          "height": 34
        },
        "outputId": "b36dfeea-dd42-4256-fbd7-02d5686c69ef"
      },
      "source": [
        "x_pca.shape"
      ],
      "execution_count": 296,
      "outputs": [
        {
          "output_type": "execute_result",
          "data": {
            "text/plain": [
              "(252, 3)"
            ]
          },
          "metadata": {
            "tags": []
          },
          "execution_count": 296
        }
      ]
    },
    {
      "cell_type": "markdown",
      "metadata": {
        "id": "JsRNlq669dVD",
        "colab_type": "text"
      },
      "source": [
        "Plot in 2D"
      ]
    },
    {
      "cell_type": "code",
      "metadata": {
        "id": "Zf-Gu__f7F_b",
        "colab_type": "code",
        "colab": {
          "base_uri": "https://localhost:8080/",
          "height": 296
        },
        "outputId": "062b3f51-b389-456f-849c-b05f1a0dd934"
      },
      "source": [
        "plt.figure()\n",
        "plt.scatter(x_pca[:,0], x_pca[:,1], c=\"g\", marker='o')\n",
        "plt.xlabel('X-axis')\n",
        "plt.ylabel('Y-axis')"
      ],
      "execution_count": 297,
      "outputs": [
        {
          "output_type": "execute_result",
          "data": {
            "text/plain": [
              "Text(0, 0.5, 'Y-axis')"
            ]
          },
          "metadata": {
            "tags": []
          },
          "execution_count": 297
        },
        {
          "output_type": "display_data",
          "data": {
            "image/png": "[encoded data removed]",
            "text/plain": [
              "<Figure size 432x288 with 1 Axes>"
            ]
          },
          "metadata": {
            "tags": [],
            "needs_background": "light"
          }
        }
      ]
    },
    {
      "cell_type": "markdown",
      "metadata": {
        "id": "YolW0-z29j6D",
        "colab_type": "text"
      },
      "source": [
        "Plot in 3D"
      ]
    },
    {
      "cell_type": "code",
      "metadata": {
        "id": "AhnXyZHvdeF3",
        "colab_type": "code",
        "colab": {
          "base_uri": "https://localhost:8080/",
          "height": 248
        },
        "outputId": "c1f71c54-8ff7-490b-9abd-0675bc057808"
      },
      "source": [
        "fig = plt.figure()\n",
        "ax = fig.add_subplot(projection='3d')\n",
        "\n",
        "\n",
        "\n",
        "ax.scatter(x_pca[:,0], x_pca[:,1], x_pca[:,2], c='g', marker='o')\n",
        "\n",
        "ax.set_xlabel('X Label')\n",
        "ax.set_ylabel('Y Label')\n",
        "ax.set_zlabel('Z Label')\n",
        "\n",
        "plt.show()"
      ],
      "execution_count": 298,
      "outputs": [
        {
          "output_type": "display_data",
          "data": {
            "image/png": "[encoded data removed]",
            "text/plain": [
              "<Figure size 432x288 with 1 Axes>"
            ]
          },
          "metadata": {
            "tags": [],
            "needs_background": "light"
          }
        }
      ]
    },
    {
      "cell_type": "code",
      "metadata": {
        "id": "_Nty52um5Bgi",
        "colab_type": "code",
        "colab": {}
      },
      "source": [
        ""
      ],
      "execution_count": 298,
      "outputs": []
    },
    {
      "cell_type": "markdown",
      "metadata": {
        "id": "wLK4Mn789bCM",
        "colab_type": "text"
      },
      "source": [
        "# ***Without using library***"
      ]
    },
    {
      "cell_type": "markdown",
      "metadata": {
        "id": "hlwdvxuD9mPg",
        "colab_type": "text"
      },
      "source": [
        "Calculate eigen value and eigen vector"
      ]
    },
    {
      "cell_type": "code",
      "metadata": {
        "id": "m_RI7KN9aEJU",
        "colab_type": "code",
        "colab": {}
      },
      "source": [
        "E, E_V = np.linalg.eig(cov_mat)\n"
      ],
      "execution_count": 299,
      "outputs": []
    },
    {
      "cell_type": "code",
      "metadata": {
        "id": "qrTtqUfYb5gX",
        "colab_type": "code",
        "colab": {
          "base_uri": "https://localhost:8080/",
          "height": 85
        },
        "outputId": "6157d07a-a0a0-4de7-f8f8-7b3f63b7758d"
      },
      "source": [
        "#Eigen values\n",
        "E"
      ],
      "execution_count": 300,
      "outputs": [
        {
          "output_type": "execute_result",
          "data": {
            "text/plain": [
              "array([1.13909821e+03, 1.77166514e+02, 4.04327224e+01, 1.22387919e+01,\n",
              "       1.12634971e+01, 6.79659177e+00, 4.44657197e+00, 3.38729323e+00,\n",
              "       2.38922923e+00, 8.03384081e-06, 2.40254969e-01, 1.91463865e+00,\n",
              "       1.67150972e+00, 1.45532656e+00, 1.06551492e+00, 6.83852597e-01])"
            ]
          },
          "metadata": {
            "tags": []
          },
          "execution_count": 300
        }
      ]
    },
    {
      "cell_type": "code",
      "metadata": {
        "id": "4byGIfDmcJOo",
        "colab_type": "code",
        "colab": {
          "base_uri": "https://localhost:8080/",
          "height": 34
        },
        "outputId": "43ab6b6d-0535-4760-b587-b377c9089d1c"
      },
      "source": [
        "E.shape"
      ],
      "execution_count": 301,
      "outputs": [
        {
          "output_type": "execute_result",
          "data": {
            "text/plain": [
              "(16,)"
            ]
          },
          "metadata": {
            "tags": []
          },
          "execution_count": 301
        }
      ]
    },
    {
      "cell_type": "code",
      "metadata": {
        "id": "wCyv4yhZckcX",
        "colab_type": "code",
        "colab": {
          "base_uri": "https://localhost:8080/",
          "height": 1000
        },
        "outputId": "17b99041-407c-4871-980f-fc462d7d37a2"
      },
      "source": [
        "#Eigen vectors\n",
        "E_V"
      ],
      "execution_count": 302,
      "outputs": [
        {
          "output_type": "execute_result",
          "data": {
            "text/plain": [
              "array([[-1.54230608e-01, -2.12404805e-01, -7.17658600e-01,\n",
              "        -5.01054643e-01, -1.53473791e-01, -3.16023679e-01,\n",
              "         1.42128386e-01, -1.13782665e-01,  2.58434014e-02,\n",
              "        -2.39867358e-03,  2.33451159e-02,  3.33964127e-02,\n",
              "        -3.45791204e-02,  5.64907212e-02, -4.14022071e-02,\n",
              "        -5.86901346e-04],\n",
              "       [ 3.68154332e-04,  5.07866039e-04,  1.79436277e-03,\n",
              "         1.20423895e-03,  4.12513902e-04,  7.46763095e-04,\n",
              "        -2.13932410e-04,  1.39736322e-04, -1.35394742e-05,\n",
              "        -9.99996950e-01,  3.85643592e-04,  2.38417344e-05,\n",
              "        -1.89635725e-04, -1.93238747e-04,  5.89242227e-05,\n",
              "        -1.30259478e-04],\n",
              "       [-1.16728268e-02, -9.33465072e-01,  3.15453701e-01,\n",
              "         2.03331676e-02, -1.39065811e-01, -5.06060502e-02,\n",
              "        -3.44235309e-02, -4.99975056e-02, -9.04379471e-03,\n",
              "         1.56226201e-05, -2.00954437e-02,  2.06361022e-02,\n",
              "        -9.39223465e-03, -1.85171731e-03,  4.43921951e-02,\n",
              "        -4.84272133e-03],\n",
              "       [-8.67071071e-01,  1.22981449e-01,  3.14044362e-01,\n",
              "        -9.42424377e-02, -7.52776503e-02, -1.12982117e-01,\n",
              "         2.75678004e-01,  9.57522073e-02, -7.19606288e-02,\n",
              "         4.94422011e-05, -8.10725964e-03,  9.43927850e-02,\n",
              "         3.82787931e-04, -6.33833265e-02,  6.06610009e-02,\n",
              "        -1.03866631e-02],\n",
              "       [-2.85265784e-02,  6.95877404e-02,  2.85610007e-01,\n",
              "        -7.25947634e-01,  1.64209797e-01,  2.89861305e-01,\n",
              "        -4.28205480e-01, -1.97957196e-01,  7.97966646e-02,\n",
              "        -3.49116028e-05, -1.81094661e-02,  1.81408706e-02,\n",
              "        -1.10197691e-02,  1.24722108e-01,  6.82659982e-02,\n",
              "         1.57725967e-01],\n",
              "       [-9.88696926e-02, -3.39106506e-02, -1.14459617e-01,\n",
              "         2.25786022e-01,  4.65114246e-02, -5.20541006e-02,\n",
              "        -4.23968565e-02,  7.26304620e-02,  5.77944485e-02,\n",
              "        -1.57525725e-04, -1.29589141e-02,  1.12222927e-02,\n",
              "        -2.34099631e-02,  3.60320761e-01,  2.10445540e-01,\n",
              "         8.57174662e-01],\n",
              "       [-5.98383573e-02, -1.27027821e-02,  5.44641645e-02,\n",
              "         2.51886706e-02,  7.37617432e-02, -1.08529397e-01,\n",
              "        -1.46636531e-01,  2.84981772e-01,  9.76793757e-03,\n",
              "         4.48004134e-05, -1.27228601e-01,  8.17844434e-02,\n",
              "        -4.70229965e-01,  5.44323282e-01, -5.54435429e-01,\n",
              "        -1.57946074e-01],\n",
              "       [-2.29555406e-01, -1.10760070e-01, -1.29532811e-01,\n",
              "         2.35591294e-01,  7.57670693e-01, -1.59619906e-01,\n",
              "        -1.49716188e-01, -4.73742045e-01, -5.05392083e-02,\n",
              "         8.52902043e-05,  5.70598759e-03,  1.31529438e-03,\n",
              "         1.10452274e-02, -2.43214757e-02, -5.29719784e-02,\n",
              "        -1.01274834e-01],\n",
              "       [-2.95112641e-01, -1.98175860e-01, -3.86489358e-01,\n",
              "         9.12032931e-02,  1.35364709e-01,  6.48385030e-01,\n",
              "        -2.10216670e-01,  4.34275570e-01, -4.69409122e-02,\n",
              "        -1.36039669e-04,  1.68037773e-03, -1.32326209e-01,\n",
              "         8.97292313e-02, -9.48439835e-02,  7.38132231e-03,\n",
              "        -8.72468137e-02],\n",
              "       [-2.01172288e-01,  4.16736886e-02, -7.52941929e-02,\n",
              "         2.40162884e-01, -3.80691901e-01,  2.82462942e-01,\n",
              "        -6.08818961e-02, -5.00885429e-01,  6.02546942e-01,\n",
              "         8.73374694e-05, -3.61454926e-03, -9.85047645e-02,\n",
              "        -1.00488101e-01,  1.25214967e-01, -9.23910004e-02,\n",
              "        -8.97179550e-02],\n",
              "       [-1.35524321e-01,  8.83994127e-02, -1.00542459e-01,\n",
              "         1.91327785e-01, -3.93937302e-01, -1.30419732e-01,\n",
              "        -6.18850394e-01, -1.71013282e-01, -5.10218279e-01,\n",
              "        -4.69596701e-05,  1.50845119e-02,  1.57760908e-01,\n",
              "        -1.04254262e-01,  4.44214741e-03,  1.91788472e-01,\n",
              "        -9.78575237e-02],\n",
              "       [-6.05699653e-02,  6.27001923e-03,  4.37217727e-02,\n",
              "        -1.86647538e-02, -1.35261271e-01, -2.81039221e-02,\n",
              "        -8.57016538e-02, -1.30762985e-01, -2.22083862e-01,\n",
              "        -1.04037269e-04, -3.99020170e-02, -4.31876029e-01,\n",
              "         1.31324081e-01, -3.55579599e-01, -6.66774401e-01,\n",
              "         3.53272601e-01],\n",
              "       [-2.98656841e-02,  1.99153382e-02,  4.63827592e-02,\n",
              "        -1.88864130e-02, -4.01036313e-02, -7.00555923e-02,\n",
              "         6.10112468e-02, -4.51884352e-02, -1.83585109e-01,\n",
              "        -2.22826825e-04, -1.12567999e-01, -6.44999079e-01,\n",
              "         3.85136223e-01,  5.40735040e-01,  1.71698554e-01,\n",
              "        -2.26537665e-01],\n",
              "       [-7.15486089e-02,  1.76048501e-02,  1.93968304e-02,\n",
              "         4.15805635e-02, -3.95716943e-03, -3.84471008e-01,\n",
              "        -4.25212647e-01,  2.97461864e-01,  4.45220473e-01,\n",
              "        -1.97878322e-04, -1.25961604e-02,  1.58239661e-01,\n",
              "         5.75984280e-01, -3.83253480e-02, -1.25187743e-01,\n",
              "        -5.49932496e-02],\n",
              "       [-3.73380571e-02,  1.76543706e-02,  2.11584917e-02,\n",
              "        -2.19818020e-02,  6.61644105e-02, -2.97675243e-01,\n",
              "        -2.22106122e-01,  2.15492861e-01,  2.73467559e-01,\n",
              "         1.78874970e-05, -7.74395737e-02, -5.36275912e-01,\n",
              "        -4.98665228e-01, -3.09346277e-01,  3.09109378e-01,\n",
              "        -1.79651249e-02],\n",
              "       [-1.99092275e-02, -9.92768866e-03,  4.86820666e-02,\n",
              "        -3.30344342e-03,  8.48123002e-03, -3.86303763e-02,\n",
              "        -3.82618024e-02,  4.98815179e-02,  9.75692768e-03,\n",
              "         4.24024466e-04,  9.80615640e-01, -1.23000397e-01,\n",
              "        -4.22994082e-02,  9.91603438e-02, -5.31103561e-02,\n",
              "        -1.82648921e-02]])"
            ]
          },
          "metadata": {
            "tags": []
          },
          "execution_count": 302
        }
      ]
    },
    {
      "cell_type": "code",
      "metadata": {
        "id": "-2Qf7RmE-Qz-",
        "colab_type": "code",
        "colab": {
          "base_uri": "https://localhost:8080/",
          "height": 34
        },
        "outputId": "87de81de-1175-4063-eae7-9f98344c1384"
      },
      "source": [
        "E_V.shape"
      ],
      "execution_count": 303,
      "outputs": [
        {
          "output_type": "execute_result",
          "data": {
            "text/plain": [
              "(16, 16)"
            ]
          },
          "metadata": {
            "tags": []
          },
          "execution_count": 303
        }
      ]
    },
    {
      "cell_type": "code",
      "metadata": {
        "id": "tI9iA--i-SaH",
        "colab_type": "code",
        "colab": {
          "base_uri": "https://localhost:8080/",
          "height": 34
        },
        "outputId": "57e2c916-e319-48a9-9f09-bbd2269c8706"
      },
      "source": [
        "#Selecting first 3 eigen values and veriance = 96.61%\n",
        "(100*(E[0] / sum(E)))+(100*(E[1] / sum(E)))+(100*(E[2] / sum(E)))\n"
      ],
      "execution_count": 304,
      "outputs": [
        {
          "output_type": "execute_result",
          "data": {
            "text/plain": [
              "96.61363270409899"
            ]
          },
          "metadata": {
            "tags": []
          },
          "execution_count": 304
        }
      ]
    },
    {
      "cell_type": "code",
      "metadata": {
        "id": "YAFNdeph-5u3",
        "colab_type": "code",
        "colab": {}
      },
      "source": [
        "eigen1 = E_V.T[0]"
      ],
      "execution_count": 305,
      "outputs": []
    },
    {
      "cell_type": "code",
      "metadata": {
        "id": "qEzoasmUBQ1t",
        "colab_type": "code",
        "colab": {}
      },
      "source": [
        "eigen2 = E_V.T[1]"
      ],
      "execution_count": 306,
      "outputs": []
    },
    {
      "cell_type": "code",
      "metadata": {
        "id": "0t7TzWkABUdM",
        "colab_type": "code",
        "colab": {}
      },
      "source": [
        "eigen3 = E_V.T[2]"
      ],
      "execution_count": 307,
      "outputs": []
    },
    {
      "cell_type": "code",
      "metadata": {
        "id": "2uP7FxzWBXN-",
        "colab_type": "code",
        "colab": {}
      },
      "source": [
        "x_pca = X.dot(eigen1)"
      ],
      "execution_count": 308,
      "outputs": []
    },
    {
      "cell_type": "code",
      "metadata": {
        "id": "48H1yxVvBnCa",
        "colab_type": "code",
        "colab": {}
      },
      "source": [
        "y_pca = X.dot(eigen2)"
      ],
      "execution_count": 309,
      "outputs": []
    },
    {
      "cell_type": "code",
      "metadata": {
        "id": "6VTCKnHzBqul",
        "colab_type": "code",
        "colab": {}
      },
      "source": [
        "z_pca = X.dot(eigen3)"
      ],
      "execution_count": 310,
      "outputs": []
    },
    {
      "cell_type": "code",
      "metadata": {
        "id": "WBMpF-1TEYwi",
        "colab_type": "code",
        "colab": {
          "base_uri": "https://localhost:8080/",
          "height": 221
        },
        "outputId": "36f419f9-731e-4995-f867-b32ff4ecba4c"
      },
      "source": [
        "x_pca.std"
      ],
      "execution_count": 311,
      "outputs": [
        {
          "output_type": "execute_result",
          "data": {
            "text/plain": [
              "<bound method Series.std of 0     -222.487441\n",
              "1     -238.592514\n",
              "2     -226.316218\n",
              "3     -253.025026\n",
              "4     -258.822195\n",
              "          ...    \n",
              "247   -200.723800\n",
              "248   -279.561262\n",
              "249   -267.881451\n",
              "250   -266.035828\n",
              "251   -287.542195\n",
              "Length: 252, dtype: float64>"
            ]
          },
          "metadata": {
            "tags": []
          },
          "execution_count": 311
        }
      ]
    },
    {
      "cell_type": "markdown",
      "metadata": {
        "id": "yHgaLOvT9nnJ",
        "colab_type": "text"
      },
      "source": [
        "Plot in 2D"
      ]
    },
    {
      "cell_type": "code",
      "metadata": {
        "id": "f_Pph_RF7ZQP",
        "colab_type": "code",
        "colab": {
          "base_uri": "https://localhost:8080/",
          "height": 300
        },
        "outputId": "f3ef3326-29d6-4b55-8927-96d6c33f870d"
      },
      "source": [
        "plt.figure()\n",
        "plt.scatter(x_pca, y_pca, c=\"g\", marker='o')\n",
        "\n",
        "plt.xlabel('X-axis')\n",
        "plt.ylabel('Y-axis')"
      ],
      "execution_count": 312,
      "outputs": [
        {
          "output_type": "execute_result",
          "data": {
            "text/plain": [
              "Text(0, 0.5, 'Y-axis')"
            ]
          },
          "metadata": {
            "tags": []
          },
          "execution_count": 312
        },
        {
          "output_type": "display_data",
          "data": {
            "image/png": "[encoded data removed]",
            "text/plain": [
              "<Figure size 432x288 with 1 Axes>"
            ]
          },
          "metadata": {
            "tags": [],
            "needs_background": "light"
          }
        }
      ]
    },
    {
      "cell_type": "markdown",
      "metadata": {
        "id": "AlLWFEMU9sB4",
        "colab_type": "text"
      },
      "source": [
        "Plot in 3D"
      ]
    },
    {
      "cell_type": "code",
      "metadata": {
        "id": "LIhpiRwjBtfc",
        "colab_type": "code",
        "colab": {
          "base_uri": "https://localhost:8080/",
          "height": 248
        },
        "outputId": "9bd54d39-e0c6-4e9e-906c-f598b85a18e0"
      },
      "source": [
        "fig = plt.figure()\n",
        "ax = fig.add_subplot(projection='3d')\n",
        "\n",
        "ax.scatter(x_pca, y_pca, z_pca, c='g', marker='o')\n",
        "\n",
        "ax.set_xlabel('X Label')\n",
        "ax.set_ylabel('Y Label')\n",
        "ax.set_zlabel('Z Label')\n",
        "\n",
        "plt.show()"
      ],
      "execution_count": 313,
      "outputs": [
        {
          "output_type": "display_data",
          "data": {
            "image/png": "[encoded data removed]",
            "text/plain": [
              "<Figure size 432x288 with 1 Axes>"
            ]
          },
          "metadata": {
            "tags": [],
            "needs_background": "light"
          }
        }
      ]
    },
    {
      "cell_type": "code",
      "metadata": {
        "id": "sAFHk9NcCB0H",
        "colab_type": "code",
        "colab": {}
      },
      "source": [
        ""
      ],
      "execution_count": 313,
      "outputs": []
    }
  ]
}
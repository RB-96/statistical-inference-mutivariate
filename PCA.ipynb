{
  "nbformat": 4,
  "nbformat_minor": 0,
  "metadata": {
    "colab": {
      "name": "PCA/SVD.ipynb",
      "provenance": []
    },
    "kernelspec": {
      "name": "python3",
      "display_name": "Python 3"
    }
  },
  "cells": [
    {
      "cell_type": "markdown",
      "metadata": {
        "id": "oCgwEfDYFia3",
        "colab_type": "text"
      },
      "source": [
        "# ***Importing exel file***"
      ]
    },
    {
      "cell_type": "code",
      "metadata": {
        "id": "NB4siIAeFXDM",
        "colab_type": "code",
        "colab": {}
      },
      "source": [
        "import pandas as pd\n",
        "import numpy as np\n",
        "from sklearn.preprocessing import StandardScaler\n",
        "from sklearn.decomposition import PCA\n",
        "import matplotlib.pyplot as plt\n",
        "from mpl_toolkits.mplot3d import Axes3D\n"
      ],
      "execution_count": 97,
      "outputs": []
    },
    {
      "cell_type": "code",
      "metadata": {
        "id": "vv-48GRCXNRV",
        "colab_type": "code",
        "colab": {
          "base_uri": "https://localhost:8080/",
          "height": 85
        },
        "outputId": "199bf986-3161-4315-b5db-fb2593d530d7"
      },
      "source": [
        "df = pd.read_excel('BodyFat.xls', usecols = \"B:Q\")\n",
        "df.keys()"
      ],
      "execution_count": 98,
      "outputs": [
        {
          "output_type": "execute_result",
          "data": {
            "text/plain": [
              "Index(['BODYFAT', 'DENSITY', 'AGE', 'WEIGHT', 'HEIGHT', 'ADIPOSITY', 'NECK',\n",
              "       'CHEST', 'ABDOMEN', 'HIP', 'THIGH', 'KNEE', 'ANKLE', 'BICEPS',\n",
              "       'FOREARM', 'WRIST'],\n",
              "      dtype='object')"
            ]
          },
          "metadata": {
            "tags": []
          },
          "execution_count": 98
        }
      ]
    },
    {
      "cell_type": "markdown",
      "metadata": {
        "id": "hrjjDpQEXwqU",
        "colab_type": "text"
      },
      "source": [
        "Covariance matrix"
      ]
    },
    {
      "cell_type": "code",
      "metadata": {
        "id": "1zGlepszradQ",
        "colab_type": "code",
        "colab": {
          "base_uri": "https://localhost:8080/",
          "height": 565
        },
        "outputId": "0365138d-d748-4e56-dc85-31229a93d715"
      },
      "source": [
        "X = df\n",
        "cov_mat = X.cov()\n",
        "cov_mat"
      ],
      "execution_count": 99,
      "outputs": [
        {
          "output_type": "execute_result",
          "data": {
            "text/html": [
              "<div>\n",
              "<style scoped>\n",
              "    .dataframe tbody tr th:only-of-type {\n",
              "        vertical-align: middle;\n",
              "    }\n",
              "\n",
              "    .dataframe tbody tr th {\n",
              "        vertical-align: top;\n",
              "    }\n",
              "\n",
              "    .dataframe thead th {\n",
              "        text-align: right;\n",
              "    }\n",
              "</style>\n",
              "<table border=\"1\" class=\"dataframe\">\n",
              "  <thead>\n",
              "    <tr style=\"text-align: right;\">\n",
              "      <th></th>\n",
              "      <th>BODYFAT</th>\n",
              "      <th>DENSITY</th>\n",
              "      <th>AGE</th>\n",
              "      <th>WEIGHT</th>\n",
              "      <th>HEIGHT</th>\n",
              "      <th>ADIPOSITY</th>\n",
              "      <th>NECK</th>\n",
              "      <th>CHEST</th>\n",
              "      <th>ABDOMEN</th>\n",
              "      <th>HIP</th>\n",
              "      <th>THIGH</th>\n",
              "      <th>KNEE</th>\n",
              "      <th>ANKLE</th>\n",
              "      <th>BICEPS</th>\n",
              "      <th>FOREARM</th>\n",
              "      <th>WRIST</th>\n",
              "    </tr>\n",
              "  </thead>\n",
              "  <tbody>\n",
              "    <tr>\n",
              "      <th>BODYFAT</th>\n",
              "      <td>60.075763</td>\n",
              "      <td>-0.145753</td>\n",
              "      <td>28.245483</td>\n",
              "      <td>139.671527</td>\n",
              "      <td>-2.529755</td>\n",
              "      <td>20.584749</td>\n",
              "      <td>9.260466</td>\n",
              "      <td>45.928905</td>\n",
              "      <td>68.007997</td>\n",
              "      <td>34.743601</td>\n",
              "      <td>22.839571</td>\n",
              "      <td>9.492320</td>\n",
              "      <td>3.504689</td>\n",
              "      <td>11.545529</td>\n",
              "      <td>5.689682</td>\n",
              "      <td>2.515065</td>\n",
              "    </tr>\n",
              "    <tr>\n",
              "      <th>DENSITY</th>\n",
              "      <td>-0.145753</td>\n",
              "      <td>0.000362</td>\n",
              "      <td>-0.066587</td>\n",
              "      <td>-0.332269</td>\n",
              "      <td>0.006823</td>\n",
              "      <td>-0.049623</td>\n",
              "      <td>-0.021881</td>\n",
              "      <td>-0.109519</td>\n",
              "      <td>-0.163959</td>\n",
              "      <td>-0.083078</td>\n",
              "      <td>-0.055262</td>\n",
              "      <td>-0.022722</td>\n",
              "      <td>-0.008544</td>\n",
              "      <td>-0.028008</td>\n",
              "      <td>-0.013523</td>\n",
              "      <td>-0.005787</td>\n",
              "    </tr>\n",
              "    <tr>\n",
              "      <th>AGE</th>\n",
              "      <td>28.245483</td>\n",
              "      <td>-0.066587</td>\n",
              "      <td>158.811405</td>\n",
              "      <td>-4.720686</td>\n",
              "      <td>-7.923046</td>\n",
              "      <td>5.464025</td>\n",
              "      <td>3.477171</td>\n",
              "      <td>18.746223</td>\n",
              "      <td>31.310050</td>\n",
              "      <td>-4.544071</td>\n",
              "      <td>-13.238356</td>\n",
              "      <td>0.532366</td>\n",
              "      <td>-2.243948</td>\n",
              "      <td>-1.567215</td>\n",
              "      <td>-2.165925</td>\n",
              "      <td>2.512204</td>\n",
              "    </tr>\n",
              "    <tr>\n",
              "      <th>WEIGHT</th>\n",
              "      <td>139.671527</td>\n",
              "      <td>-0.332269</td>\n",
              "      <td>-4.720686</td>\n",
              "      <td>863.722719</td>\n",
              "      <td>33.185647</td>\n",
              "      <td>95.137383</td>\n",
              "      <td>59.348441</td>\n",
              "      <td>221.548750</td>\n",
              "      <td>281.410541</td>\n",
              "      <td>198.099047</td>\n",
              "      <td>134.032185</td>\n",
              "      <td>60.473281</td>\n",
              "      <td>30.568587</td>\n",
              "      <td>71.071090</td>\n",
              "      <td>37.431343</td>\n",
              "      <td>20.023036</td>\n",
              "    </tr>\n",
              "    <tr>\n",
              "      <th>HEIGHT</th>\n",
              "      <td>-2.529755</td>\n",
              "      <td>0.006823</td>\n",
              "      <td>-7.923046</td>\n",
              "      <td>33.185647</td>\n",
              "      <td>13.416513</td>\n",
              "      <td>-0.332605</td>\n",
              "      <td>2.259054</td>\n",
              "      <td>4.165407</td>\n",
              "      <td>3.468334</td>\n",
              "      <td>4.471301</td>\n",
              "      <td>2.854390</td>\n",
              "      <td>2.527020</td>\n",
              "      <td>1.643569</td>\n",
              "      <td>2.299789</td>\n",
              "      <td>1.692347</td>\n",
              "      <td>1.101330</td>\n",
              "    </tr>\n",
              "    <tr>\n",
              "      <th>ADIPOSITY</th>\n",
              "      <td>20.584749</td>\n",
              "      <td>-0.049623</td>\n",
              "      <td>5.464025</td>\n",
              "      <td>95.137383</td>\n",
              "      <td>-0.332605</td>\n",
              "      <td>13.308712</td>\n",
              "      <td>6.898222</td>\n",
              "      <td>28.042649</td>\n",
              "      <td>36.343465</td>\n",
              "      <td>23.084485</td>\n",
              "      <td>15.565277</td>\n",
              "      <td>6.279158</td>\n",
              "      <td>3.093537</td>\n",
              "      <td>8.226603</td>\n",
              "      <td>4.117792</td>\n",
              "      <td>2.131726</td>\n",
              "    </tr>\n",
              "    <tr>\n",
              "      <th>NECK</th>\n",
              "      <td>9.260466</td>\n",
              "      <td>-0.021881</td>\n",
              "      <td>3.477171</td>\n",
              "      <td>59.348441</td>\n",
              "      <td>2.259054</td>\n",
              "      <td>6.898222</td>\n",
              "      <td>5.909339</td>\n",
              "      <td>16.084217</td>\n",
              "      <td>19.766422</td>\n",
              "      <td>12.799440</td>\n",
              "      <td>8.878613</td>\n",
              "      <td>3.942235</td>\n",
              "      <td>1.968983</td>\n",
              "      <td>5.369868</td>\n",
              "      <td>3.063497</td>\n",
              "      <td>1.690357</td>\n",
              "    </tr>\n",
              "    <tr>\n",
              "      <th>CHEST</th>\n",
              "      <td>45.928905</td>\n",
              "      <td>-0.109519</td>\n",
              "      <td>18.746223</td>\n",
              "      <td>221.548750</td>\n",
              "      <td>4.165407</td>\n",
              "      <td>28.042649</td>\n",
              "      <td>16.084217</td>\n",
              "      <td>71.072918</td>\n",
              "      <td>83.254656</td>\n",
              "      <td>50.093988</td>\n",
              "      <td>32.303242</td>\n",
              "      <td>14.629275</td>\n",
              "      <td>6.901297</td>\n",
              "      <td>18.540367</td>\n",
              "      <td>9.883467</td>\n",
              "      <td>5.195850</td>\n",
              "    </tr>\n",
              "    <tr>\n",
              "      <th>ABDOMEN</th>\n",
              "      <td>68.007997</td>\n",
              "      <td>-0.163959</td>\n",
              "      <td>31.310050</td>\n",
              "      <td>281.410541</td>\n",
              "      <td>3.468334</td>\n",
              "      <td>36.343465</td>\n",
              "      <td>19.766422</td>\n",
              "      <td>83.254656</td>\n",
              "      <td>116.274745</td>\n",
              "      <td>67.522123</td>\n",
              "      <td>43.399068</td>\n",
              "      <td>19.171571</td>\n",
              "      <td>8.283173</td>\n",
              "      <td>22.315796</td>\n",
              "      <td>10.966889</td>\n",
              "      <td>6.239802</td>\n",
              "    </tr>\n",
              "    <tr>\n",
              "      <th>HIP</th>\n",
              "      <td>34.743601</td>\n",
              "      <td>-0.083078</td>\n",
              "      <td>-4.544071</td>\n",
              "      <td>198.099047</td>\n",
              "      <td>4.471301</td>\n",
              "      <td>23.084485</td>\n",
              "      <td>12.799440</td>\n",
              "      <td>50.093988</td>\n",
              "      <td>67.522123</td>\n",
              "      <td>51.323722</td>\n",
              "      <td>33.714832</td>\n",
              "      <td>14.228213</td>\n",
              "      <td>6.780108</td>\n",
              "      <td>16.001243</td>\n",
              "      <td>7.889814</td>\n",
              "      <td>4.214200</td>\n",
              "    </tr>\n",
              "    <tr>\n",
              "      <th>THIGH</th>\n",
              "      <td>22.839571</td>\n",
              "      <td>-0.055262</td>\n",
              "      <td>-13.238356</td>\n",
              "      <td>134.032185</td>\n",
              "      <td>2.854390</td>\n",
              "      <td>15.565277</td>\n",
              "      <td>8.878613</td>\n",
              "      <td>32.303242</td>\n",
              "      <td>43.399068</td>\n",
              "      <td>33.714832</td>\n",
              "      <td>27.561996</td>\n",
              "      <td>10.118981</td>\n",
              "      <td>4.803173</td>\n",
              "      <td>12.078207</td>\n",
              "      <td>6.013363</td>\n",
              "      <td>2.738268</td>\n",
              "    </tr>\n",
              "    <tr>\n",
              "      <th>KNEE</th>\n",
              "      <td>9.492320</td>\n",
              "      <td>-0.022722</td>\n",
              "      <td>0.532366</td>\n",
              "      <td>60.473281</td>\n",
              "      <td>2.527020</td>\n",
              "      <td>6.279158</td>\n",
              "      <td>3.942235</td>\n",
              "      <td>14.629275</td>\n",
              "      <td>19.171571</td>\n",
              "      <td>14.228213</td>\n",
              "      <td>10.118981</td>\n",
              "      <td>5.816801</td>\n",
              "      <td>2.500102</td>\n",
              "      <td>4.945563</td>\n",
              "      <td>2.709177</td>\n",
              "      <td>1.496221</td>\n",
              "    </tr>\n",
              "    <tr>\n",
              "      <th>ANKLE</th>\n",
              "      <td>3.504689</td>\n",
              "      <td>-0.008544</td>\n",
              "      <td>-2.243948</td>\n",
              "      <td>30.568587</td>\n",
              "      <td>1.643569</td>\n",
              "      <td>3.093537</td>\n",
              "      <td>1.968983</td>\n",
              "      <td>6.901297</td>\n",
              "      <td>8.283173</td>\n",
              "      <td>6.780108</td>\n",
              "      <td>4.803173</td>\n",
              "      <td>2.500102</td>\n",
              "      <td>2.872664</td>\n",
              "      <td>2.482813</td>\n",
              "      <td>1.435186</td>\n",
              "      <td>0.895905</td>\n",
              "    </tr>\n",
              "    <tr>\n",
              "      <th>BICEPS</th>\n",
              "      <td>11.545529</td>\n",
              "      <td>-0.028008</td>\n",
              "      <td>-1.567215</td>\n",
              "      <td>71.071090</td>\n",
              "      <td>2.299789</td>\n",
              "      <td>8.226603</td>\n",
              "      <td>5.369868</td>\n",
              "      <td>18.540367</td>\n",
              "      <td>22.315796</td>\n",
              "      <td>16.001243</td>\n",
              "      <td>12.078207</td>\n",
              "      <td>4.945563</td>\n",
              "      <td>2.482813</td>\n",
              "      <td>9.128095</td>\n",
              "      <td>4.140789</td>\n",
              "      <td>1.782986</td>\n",
              "    </tr>\n",
              "    <tr>\n",
              "      <th>FOREARM</th>\n",
              "      <td>5.689682</td>\n",
              "      <td>-0.013523</td>\n",
              "      <td>-2.165925</td>\n",
              "      <td>37.431343</td>\n",
              "      <td>1.692347</td>\n",
              "      <td>4.117792</td>\n",
              "      <td>3.063497</td>\n",
              "      <td>9.883467</td>\n",
              "      <td>10.966889</td>\n",
              "      <td>7.889814</td>\n",
              "      <td>6.013363</td>\n",
              "      <td>2.709177</td>\n",
              "      <td>1.435186</td>\n",
              "      <td>4.140789</td>\n",
              "      <td>4.083193</td>\n",
              "      <td>1.104705</td>\n",
              "    </tr>\n",
              "    <tr>\n",
              "      <th>WRIST</th>\n",
              "      <td>2.515065</td>\n",
              "      <td>-0.005787</td>\n",
              "      <td>2.512204</td>\n",
              "      <td>20.023036</td>\n",
              "      <td>1.101330</td>\n",
              "      <td>2.131726</td>\n",
              "      <td>1.690357</td>\n",
              "      <td>5.195850</td>\n",
              "      <td>6.239802</td>\n",
              "      <td>4.214200</td>\n",
              "      <td>2.738268</td>\n",
              "      <td>1.496221</td>\n",
              "      <td>0.895905</td>\n",
              "      <td>1.782986</td>\n",
              "      <td>1.104705</td>\n",
              "      <td>0.871581</td>\n",
              "    </tr>\n",
              "  </tbody>\n",
              "</table>\n",
              "</div>"
            ],
            "text/plain": [
              "              BODYFAT   DENSITY         AGE  ...     BICEPS    FOREARM      WRIST\n",
              "BODYFAT     60.075763 -0.145753   28.245483  ...  11.545529   5.689682   2.515065\n",
              "DENSITY     -0.145753  0.000362   -0.066587  ...  -0.028008  -0.013523  -0.005787\n",
              "AGE         28.245483 -0.066587  158.811405  ...  -1.567215  -2.165925   2.512204\n",
              "WEIGHT     139.671527 -0.332269   -4.720686  ...  71.071090  37.431343  20.023036\n",
              "HEIGHT      -2.529755  0.006823   -7.923046  ...   2.299789   1.692347   1.101330\n",
              "ADIPOSITY   20.584749 -0.049623    5.464025  ...   8.226603   4.117792   2.131726\n",
              "NECK         9.260466 -0.021881    3.477171  ...   5.369868   3.063497   1.690357\n",
              "CHEST       45.928905 -0.109519   18.746223  ...  18.540367   9.883467   5.195850\n",
              "ABDOMEN     68.007997 -0.163959   31.310050  ...  22.315796  10.966889   6.239802\n",
              "HIP         34.743601 -0.083078   -4.544071  ...  16.001243   7.889814   4.214200\n",
              "THIGH       22.839571 -0.055262  -13.238356  ...  12.078207   6.013363   2.738268\n",
              "KNEE         9.492320 -0.022722    0.532366  ...   4.945563   2.709177   1.496221\n",
              "ANKLE        3.504689 -0.008544   -2.243948  ...   2.482813   1.435186   0.895905\n",
              "BICEPS      11.545529 -0.028008   -1.567215  ...   9.128095   4.140789   1.782986\n",
              "FOREARM      5.689682 -0.013523   -2.165925  ...   4.140789   4.083193   1.104705\n",
              "WRIST        2.515065 -0.005787    2.512204  ...   1.782986   1.104705   0.871581\n",
              "\n",
              "[16 rows x 16 columns]"
            ]
          },
          "metadata": {
            "tags": []
          },
          "execution_count": 99
        }
      ]
    },
    {
      "cell_type": "markdown",
      "metadata": {
        "id": "I1ljSrjBX2ii",
        "colab_type": "text"
      },
      "source": [
        "Correlation matrix"
      ]
    },
    {
      "cell_type": "code",
      "metadata": {
        "id": "9eY5XoFbSI_l",
        "colab_type": "code",
        "colab": {
          "base_uri": "https://localhost:8080/",
          "height": 565
        },
        "outputId": "8ad1006e-a7ae-494f-fbfa-936daa8b9f6c"
      },
      "source": [
        "Corr_mat = X.corr(method='pearson')\n",
        "Corr_mat"
      ],
      "execution_count": 100,
      "outputs": [
        {
          "output_type": "execute_result",
          "data": {
            "text/html": [
              "<div>\n",
              "<style scoped>\n",
              "    .dataframe tbody tr th:only-of-type {\n",
              "        vertical-align: middle;\n",
              "    }\n",
              "\n",
              "    .dataframe tbody tr th {\n",
              "        vertical-align: top;\n",
              "    }\n",
              "\n",
              "    .dataframe thead th {\n",
              "        text-align: right;\n",
              "    }\n",
              "</style>\n",
              "<table border=\"1\" class=\"dataframe\">\n",
              "  <thead>\n",
              "    <tr style=\"text-align: right;\">\n",
              "      <th></th>\n",
              "      <th>BODYFAT</th>\n",
              "      <th>DENSITY</th>\n",
              "      <th>AGE</th>\n",
              "      <th>WEIGHT</th>\n",
              "      <th>HEIGHT</th>\n",
              "      <th>ADIPOSITY</th>\n",
              "      <th>NECK</th>\n",
              "      <th>CHEST</th>\n",
              "      <th>ABDOMEN</th>\n",
              "      <th>HIP</th>\n",
              "      <th>THIGH</th>\n",
              "      <th>KNEE</th>\n",
              "      <th>ANKLE</th>\n",
              "      <th>BICEPS</th>\n",
              "      <th>FOREARM</th>\n",
              "      <th>WRIST</th>\n",
              "    </tr>\n",
              "  </thead>\n",
              "  <tbody>\n",
              "    <tr>\n",
              "      <th>BODYFAT</th>\n",
              "      <td>1.000000</td>\n",
              "      <td>-0.988087</td>\n",
              "      <td>0.289174</td>\n",
              "      <td>0.613156</td>\n",
              "      <td>-0.089106</td>\n",
              "      <td>0.727994</td>\n",
              "      <td>0.491489</td>\n",
              "      <td>0.702885</td>\n",
              "      <td>0.813706</td>\n",
              "      <td>0.625700</td>\n",
              "      <td>0.561284</td>\n",
              "      <td>0.507786</td>\n",
              "      <td>0.266783</td>\n",
              "      <td>0.493031</td>\n",
              "      <td>0.363277</td>\n",
              "      <td>0.347573</td>\n",
              "    </tr>\n",
              "    <tr>\n",
              "      <th>DENSITY</th>\n",
              "      <td>-0.988087</td>\n",
              "      <td>1.000000</td>\n",
              "      <td>-0.277637</td>\n",
              "      <td>-0.594062</td>\n",
              "      <td>0.097881</td>\n",
              "      <td>-0.714732</td>\n",
              "      <td>-0.472966</td>\n",
              "      <td>-0.682599</td>\n",
              "      <td>-0.798955</td>\n",
              "      <td>-0.609331</td>\n",
              "      <td>-0.553091</td>\n",
              "      <td>-0.495040</td>\n",
              "      <td>-0.264890</td>\n",
              "      <td>-0.487109</td>\n",
              "      <td>-0.351648</td>\n",
              "      <td>-0.325716</td>\n",
              "    </tr>\n",
              "    <tr>\n",
              "      <th>AGE</th>\n",
              "      <td>0.289174</td>\n",
              "      <td>-0.277637</td>\n",
              "      <td>1.000000</td>\n",
              "      <td>-0.012746</td>\n",
              "      <td>-0.171645</td>\n",
              "      <td>0.118851</td>\n",
              "      <td>0.113505</td>\n",
              "      <td>0.176450</td>\n",
              "      <td>0.230409</td>\n",
              "      <td>-0.050332</td>\n",
              "      <td>-0.200096</td>\n",
              "      <td>0.017516</td>\n",
              "      <td>-0.105058</td>\n",
              "      <td>-0.041162</td>\n",
              "      <td>-0.085056</td>\n",
              "      <td>0.213531</td>\n",
              "    </tr>\n",
              "    <tr>\n",
              "      <th>WEIGHT</th>\n",
              "      <td>0.613156</td>\n",
              "      <td>-0.594062</td>\n",
              "      <td>-0.012746</td>\n",
              "      <td>1.000000</td>\n",
              "      <td>0.308279</td>\n",
              "      <td>0.887352</td>\n",
              "      <td>0.830716</td>\n",
              "      <td>0.894191</td>\n",
              "      <td>0.887995</td>\n",
              "      <td>0.940884</td>\n",
              "      <td>0.868694</td>\n",
              "      <td>0.853167</td>\n",
              "      <td>0.613685</td>\n",
              "      <td>0.800416</td>\n",
              "      <td>0.630301</td>\n",
              "      <td>0.729775</td>\n",
              "    </tr>\n",
              "    <tr>\n",
              "      <th>HEIGHT</th>\n",
              "      <td>-0.089106</td>\n",
              "      <td>0.097881</td>\n",
              "      <td>-0.171645</td>\n",
              "      <td>0.308279</td>\n",
              "      <td>1.000000</td>\n",
              "      <td>-0.024891</td>\n",
              "      <td>0.253710</td>\n",
              "      <td>0.134892</td>\n",
              "      <td>0.087813</td>\n",
              "      <td>0.170394</td>\n",
              "      <td>0.148436</td>\n",
              "      <td>0.286053</td>\n",
              "      <td>0.264744</td>\n",
              "      <td>0.207816</td>\n",
              "      <td>0.228649</td>\n",
              "      <td>0.322065</td>\n",
              "    </tr>\n",
              "    <tr>\n",
              "      <th>ADIPOSITY</th>\n",
              "      <td>0.727994</td>\n",
              "      <td>-0.714732</td>\n",
              "      <td>0.118851</td>\n",
              "      <td>0.887352</td>\n",
              "      <td>-0.024891</td>\n",
              "      <td>1.000000</td>\n",
              "      <td>0.777857</td>\n",
              "      <td>0.911799</td>\n",
              "      <td>0.923880</td>\n",
              "      <td>0.883269</td>\n",
              "      <td>0.812706</td>\n",
              "      <td>0.713660</td>\n",
              "      <td>0.500317</td>\n",
              "      <td>0.746384</td>\n",
              "      <td>0.558594</td>\n",
              "      <td>0.625907</td>\n",
              "    </tr>\n",
              "    <tr>\n",
              "      <th>NECK</th>\n",
              "      <td>0.491489</td>\n",
              "      <td>-0.472966</td>\n",
              "      <td>0.113505</td>\n",
              "      <td>0.830716</td>\n",
              "      <td>0.253710</td>\n",
              "      <td>0.777857</td>\n",
              "      <td>1.000000</td>\n",
              "      <td>0.784835</td>\n",
              "      <td>0.754077</td>\n",
              "      <td>0.734958</td>\n",
              "      <td>0.695697</td>\n",
              "      <td>0.672405</td>\n",
              "      <td>0.477892</td>\n",
              "      <td>0.731146</td>\n",
              "      <td>0.623660</td>\n",
              "      <td>0.744826</td>\n",
              "    </tr>\n",
              "    <tr>\n",
              "      <th>CHEST</th>\n",
              "      <td>0.702885</td>\n",
              "      <td>-0.682599</td>\n",
              "      <td>0.176450</td>\n",
              "      <td>0.894191</td>\n",
              "      <td>0.134892</td>\n",
              "      <td>0.911799</td>\n",
              "      <td>0.784835</td>\n",
              "      <td>1.000000</td>\n",
              "      <td>0.915828</td>\n",
              "      <td>0.829420</td>\n",
              "      <td>0.729859</td>\n",
              "      <td>0.719496</td>\n",
              "      <td>0.482988</td>\n",
              "      <td>0.727907</td>\n",
              "      <td>0.580173</td>\n",
              "      <td>0.660162</td>\n",
              "    </tr>\n",
              "    <tr>\n",
              "      <th>ABDOMEN</th>\n",
              "      <td>0.813706</td>\n",
              "      <td>-0.798955</td>\n",
              "      <td>0.230409</td>\n",
              "      <td>0.887995</td>\n",
              "      <td>0.087813</td>\n",
              "      <td>0.923880</td>\n",
              "      <td>0.754077</td>\n",
              "      <td>0.915828</td>\n",
              "      <td>1.000000</td>\n",
              "      <td>0.874066</td>\n",
              "      <td>0.766624</td>\n",
              "      <td>0.737179</td>\n",
              "      <td>0.453223</td>\n",
              "      <td>0.684983</td>\n",
              "      <td>0.503316</td>\n",
              "      <td>0.619832</td>\n",
              "    </tr>\n",
              "    <tr>\n",
              "      <th>HIP</th>\n",
              "      <td>0.625700</td>\n",
              "      <td>-0.609331</td>\n",
              "      <td>-0.050332</td>\n",
              "      <td>0.940884</td>\n",
              "      <td>0.170394</td>\n",
              "      <td>0.883269</td>\n",
              "      <td>0.734958</td>\n",
              "      <td>0.829420</td>\n",
              "      <td>0.874066</td>\n",
              "      <td>1.000000</td>\n",
              "      <td>0.896410</td>\n",
              "      <td>0.823473</td>\n",
              "      <td>0.558387</td>\n",
              "      <td>0.739273</td>\n",
              "      <td>0.545014</td>\n",
              "      <td>0.630090</td>\n",
              "    </tr>\n",
              "    <tr>\n",
              "      <th>THIGH</th>\n",
              "      <td>0.561284</td>\n",
              "      <td>-0.553091</td>\n",
              "      <td>-0.200096</td>\n",
              "      <td>0.868694</td>\n",
              "      <td>0.148436</td>\n",
              "      <td>0.812706</td>\n",
              "      <td>0.695697</td>\n",
              "      <td>0.729859</td>\n",
              "      <td>0.766624</td>\n",
              "      <td>0.896410</td>\n",
              "      <td>1.000000</td>\n",
              "      <td>0.799170</td>\n",
              "      <td>0.539797</td>\n",
              "      <td>0.761477</td>\n",
              "      <td>0.566842</td>\n",
              "      <td>0.558685</td>\n",
              "    </tr>\n",
              "    <tr>\n",
              "      <th>KNEE</th>\n",
              "      <td>0.507786</td>\n",
              "      <td>-0.495040</td>\n",
              "      <td>0.017516</td>\n",
              "      <td>0.853167</td>\n",
              "      <td>0.286053</td>\n",
              "      <td>0.713660</td>\n",
              "      <td>0.672405</td>\n",
              "      <td>0.719496</td>\n",
              "      <td>0.737179</td>\n",
              "      <td>0.823473</td>\n",
              "      <td>0.799170</td>\n",
              "      <td>1.000000</td>\n",
              "      <td>0.611608</td>\n",
              "      <td>0.678709</td>\n",
              "      <td>0.555898</td>\n",
              "      <td>0.664507</td>\n",
              "    </tr>\n",
              "    <tr>\n",
              "      <th>ANKLE</th>\n",
              "      <td>0.266783</td>\n",
              "      <td>-0.264890</td>\n",
              "      <td>-0.105058</td>\n",
              "      <td>0.613685</td>\n",
              "      <td>0.264744</td>\n",
              "      <td>0.500317</td>\n",
              "      <td>0.477892</td>\n",
              "      <td>0.482988</td>\n",
              "      <td>0.453223</td>\n",
              "      <td>0.558387</td>\n",
              "      <td>0.539797</td>\n",
              "      <td>0.611608</td>\n",
              "      <td>1.000000</td>\n",
              "      <td>0.484855</td>\n",
              "      <td>0.419050</td>\n",
              "      <td>0.566195</td>\n",
              "    </tr>\n",
              "    <tr>\n",
              "      <th>BICEPS</th>\n",
              "      <td>0.493031</td>\n",
              "      <td>-0.487109</td>\n",
              "      <td>-0.041162</td>\n",
              "      <td>0.800416</td>\n",
              "      <td>0.207816</td>\n",
              "      <td>0.746384</td>\n",
              "      <td>0.731146</td>\n",
              "      <td>0.727907</td>\n",
              "      <td>0.684983</td>\n",
              "      <td>0.739273</td>\n",
              "      <td>0.761477</td>\n",
              "      <td>0.678709</td>\n",
              "      <td>0.484855</td>\n",
              "      <td>1.000000</td>\n",
              "      <td>0.678255</td>\n",
              "      <td>0.632126</td>\n",
              "    </tr>\n",
              "    <tr>\n",
              "      <th>FOREARM</th>\n",
              "      <td>0.363277</td>\n",
              "      <td>-0.351648</td>\n",
              "      <td>-0.085056</td>\n",
              "      <td>0.630301</td>\n",
              "      <td>0.228649</td>\n",
              "      <td>0.558594</td>\n",
              "      <td>0.623660</td>\n",
              "      <td>0.580173</td>\n",
              "      <td>0.503316</td>\n",
              "      <td>0.545014</td>\n",
              "      <td>0.566842</td>\n",
              "      <td>0.555898</td>\n",
              "      <td>0.419050</td>\n",
              "      <td>0.678255</td>\n",
              "      <td>1.000000</td>\n",
              "      <td>0.585588</td>\n",
              "    </tr>\n",
              "    <tr>\n",
              "      <th>WRIST</th>\n",
              "      <td>0.347573</td>\n",
              "      <td>-0.325716</td>\n",
              "      <td>0.213531</td>\n",
              "      <td>0.729775</td>\n",
              "      <td>0.322065</td>\n",
              "      <td>0.625907</td>\n",
              "      <td>0.744826</td>\n",
              "      <td>0.660162</td>\n",
              "      <td>0.619832</td>\n",
              "      <td>0.630090</td>\n",
              "      <td>0.558685</td>\n",
              "      <td>0.664507</td>\n",
              "      <td>0.566195</td>\n",
              "      <td>0.632126</td>\n",
              "      <td>0.585588</td>\n",
              "      <td>1.000000</td>\n",
              "    </tr>\n",
              "  </tbody>\n",
              "</table>\n",
              "</div>"
            ],
            "text/plain": [
              "            BODYFAT   DENSITY       AGE  ...    BICEPS   FOREARM     WRIST\n",
              "BODYFAT    1.000000 -0.988087  0.289174  ...  0.493031  0.363277  0.347573\n",
              "DENSITY   -0.988087  1.000000 -0.277637  ... -0.487109 -0.351648 -0.325716\n",
              "AGE        0.289174 -0.277637  1.000000  ... -0.041162 -0.085056  0.213531\n",
              "WEIGHT     0.613156 -0.594062 -0.012746  ...  0.800416  0.630301  0.729775\n",
              "HEIGHT    -0.089106  0.097881 -0.171645  ...  0.207816  0.228649  0.322065\n",
              "ADIPOSITY  0.727994 -0.714732  0.118851  ...  0.746384  0.558594  0.625907\n",
              "NECK       0.491489 -0.472966  0.113505  ...  0.731146  0.623660  0.744826\n",
              "CHEST      0.702885 -0.682599  0.176450  ...  0.727907  0.580173  0.660162\n",
              "ABDOMEN    0.813706 -0.798955  0.230409  ...  0.684983  0.503316  0.619832\n",
              "HIP        0.625700 -0.609331 -0.050332  ...  0.739273  0.545014  0.630090\n",
              "THIGH      0.561284 -0.553091 -0.200096  ...  0.761477  0.566842  0.558685\n",
              "KNEE       0.507786 -0.495040  0.017516  ...  0.678709  0.555898  0.664507\n",
              "ANKLE      0.266783 -0.264890 -0.105058  ...  0.484855  0.419050  0.566195\n",
              "BICEPS     0.493031 -0.487109 -0.041162  ...  1.000000  0.678255  0.632126\n",
              "FOREARM    0.363277 -0.351648 -0.085056  ...  0.678255  1.000000  0.585588\n",
              "WRIST      0.347573 -0.325716  0.213531  ...  0.632126  0.585588  1.000000\n",
              "\n",
              "[16 rows x 16 columns]"
            ]
          },
          "metadata": {
            "tags": []
          },
          "execution_count": 100
        }
      ]
    },
    {
      "cell_type": "markdown",
      "metadata": {
        "id": "-b4tVitPYDEu",
        "colab_type": "text"
      },
      "source": [
        "# ***Applying PCA library***"
      ]
    },
    {
      "cell_type": "code",
      "metadata": {
        "id": "LFBoc2fKY5OA",
        "colab_type": "code",
        "colab": {}
      },
      "source": [
        "Scaler = StandardScaler()"
      ],
      "execution_count": 101,
      "outputs": []
    },
    {
      "cell_type": "code",
      "metadata": {
        "id": "WXUt-WMNY-lf",
        "colab_type": "code",
        "colab": {
          "base_uri": "https://localhost:8080/",
          "height": 34
        },
        "outputId": "9605f424-30ef-4caa-ab84-92ac072f2d80"
      },
      "source": [
        "Scaler.fit(df)"
      ],
      "execution_count": 102,
      "outputs": [
        {
          "output_type": "execute_result",
          "data": {
            "text/plain": [
              "StandardScaler(copy=True, with_mean=True, with_std=True)"
            ]
          },
          "metadata": {
            "tags": []
          },
          "execution_count": 102
        }
      ]
    },
    {
      "cell_type": "code",
      "metadata": {
        "id": "V-wUurX_ZE61",
        "colab_type": "code",
        "colab": {}
      },
      "source": [
        "Scaled_data = Scaler.transform(df)"
      ],
      "execution_count": 103,
      "outputs": []
    },
    {
      "cell_type": "code",
      "metadata": {
        "id": "_aouGVNRZcDh",
        "colab_type": "code",
        "colab": {}
      },
      "source": [
        "pca = PCA(n_components=3)"
      ],
      "execution_count": 104,
      "outputs": []
    },
    {
      "cell_type": "code",
      "metadata": {
        "id": "Ph07LKWPZhax",
        "colab_type": "code",
        "colab": {
          "base_uri": "https://localhost:8080/",
          "height": 51
        },
        "outputId": "da26b9b1-3420-4912-e3a7-10a182424dcc"
      },
      "source": [
        "pca.fit(Scaled_data)"
      ],
      "execution_count": 105,
      "outputs": [
        {
          "output_type": "execute_result",
          "data": {
            "text/plain": [
              "PCA(copy=True, iterated_power='auto', n_components=3, random_state=None,\n",
              "    svd_solver='auto', tol=0.0, whiten=False)"
            ]
          },
          "metadata": {
            "tags": []
          },
          "execution_count": 105
        }
      ]
    },
    {
      "cell_type": "code",
      "metadata": {
        "id": "ce_ROkHgZn7K",
        "colab_type": "code",
        "colab": {}
      },
      "source": [
        "x_pca = pca.transform(Scaled_data)"
      ],
      "execution_count": 106,
      "outputs": []
    },
    {
      "cell_type": "code",
      "metadata": {
        "id": "iSoqbKFuY3-g",
        "colab_type": "code",
        "colab": {
          "base_uri": "https://localhost:8080/",
          "height": 34
        },
        "outputId": "6ff3ef0d-1758-42ce-ef3f-70b7f7caa259"
      },
      "source": [
        "pca.explained_variance_"
      ],
      "execution_count": 107,
      "outputs": [
        {
          "output_type": "execute_result",
          "data": {
            "text/plain": [
              "array([9.81569016, 1.94298613, 1.08838316])"
            ]
          },
          "metadata": {
            "tags": []
          },
          "execution_count": 107
        }
      ]
    },
    {
      "cell_type": "code",
      "metadata": {
        "id": "-CeUC9hJaCER",
        "colab_type": "code",
        "colab": {
          "base_uri": "https://localhost:8080/",
          "height": 34
        },
        "outputId": "0479761b-815d-4b59-f507-a38543d3b40b"
      },
      "source": [
        "x_pca.shape"
      ],
      "execution_count": 108,
      "outputs": [
        {
          "output_type": "execute_result",
          "data": {
            "text/plain": [
              "(252, 3)"
            ]
          },
          "metadata": {
            "tags": []
          },
          "execution_count": 108
        }
      ]
    },
    {
      "cell_type": "markdown",
      "metadata": {
        "id": "JsRNlq669dVD",
        "colab_type": "text"
      },
      "source": [
        "Plot in 2D"
      ]
    },
    {
      "cell_type": "code",
      "metadata": {
        "id": "Zf-Gu__f7F_b",
        "colab_type": "code",
        "colab": {
          "base_uri": "https://localhost:8080/",
          "height": 296
        },
        "outputId": "3d82bdb0-f39b-4221-aa21-8ee047d9b6d3"
      },
      "source": [
        "plt.figure()\n",
        "plt.scatter(x_pca[:,0], x_pca[:,1], c=\"g\", marker='o')\n",
        "plt.xlabel('X-axis')\n",
        "plt.ylabel('Y-axis')"
      ],
      "execution_count": 109,
      "outputs": [
        {
          "output_type": "execute_result",
          "data": {
            "text/plain": [
              "Text(0, 0.5, 'Y-axis')"
            ]
          },
          "metadata": {
            "tags": []
          },
          "execution_count": 109
        },
        {
          "output_type": "display_data",
          "data": {
            "image/png": "[encoded data removed]",
            "text/plain": [
              "<Figure size 432x288 with 1 Axes>"
            ]
          },
          "metadata": {
            "tags": [],
            "needs_background": "light"
          }
        }
      ]
    },
    {
      "cell_type": "markdown",
      "metadata": {
        "id": "YolW0-z29j6D",
        "colab_type": "text"
      },
      "source": [
        "Plot in 3D"
      ]
    },
    {
      "cell_type": "code",
      "metadata": {
        "id": "AhnXyZHvdeF3",
        "colab_type": "code",
        "colab": {
          "base_uri": "https://localhost:8080/",
          "height": 248
        },
        "outputId": "282a9803-e687-4c00-a55f-3998f91df56c"
      },
      "source": [
        "fig = plt.figure()\n",
        "ax = fig.add_subplot(projection='3d')\n",
        "\n",
        "\n",
        "\n",
        "ax.scatter(x_pca[:,0], x_pca[:,1], x_pca[:,2], c='g', marker='o')\n",
        "\n",
        "ax.set_xlabel('X Label')\n",
        "ax.set_ylabel('Y Label')\n",
        "ax.set_zlabel('Z Label')\n",
        "\n",
        "plt.show()"
      ],
      "execution_count": 110,
      "outputs": [
        {
          "output_type": "display_data",
          "data": {
            "image/png": "[encoded data removed]",
            "text/plain": [
              "<Figure size 432x288 with 1 Axes>"
            ]
          },
          "metadata": {
            "tags": [],
            "needs_background": "light"
          }
        }
      ]
    },
    {
      "cell_type": "code",
      "metadata": {
        "id": "_Nty52um5Bgi",
        "colab_type": "code",
        "colab": {}
      },
      "source": [
        ""
      ],
      "execution_count": 110,
      "outputs": []
    },
    {
      "cell_type": "markdown",
      "metadata": {
        "id": "wLK4Mn789bCM",
        "colab_type": "text"
      },
      "source": [
        "# ***Without using library***"
      ]
    },
    {
      "cell_type": "markdown",
      "metadata": {
        "id": "hlwdvxuD9mPg",
        "colab_type": "text"
      },
      "source": [
        "Calculate eigen value and eigen vector from correlation matrix\n",
        "\n",
        "\n"
      ]
    },
    {
      "cell_type": "code",
      "metadata": {
        "id": "m_RI7KN9aEJU",
        "colab_type": "code",
        "colab": {}
      },
      "source": [
        "E, E_V = np.linalg.eig(Corr_mat)\n"
      ],
      "execution_count": 112,
      "outputs": []
    },
    {
      "cell_type": "code",
      "metadata": {
        "id": "qrTtqUfYb5gX",
        "colab_type": "code",
        "colab": {
          "base_uri": "https://localhost:8080/",
          "height": 85
        },
        "outputId": "18bd9a9c-3c10-477d-f9cb-77a227209eb6"
      },
      "source": [
        "#Eigen values\n",
        "E"
      ],
      "execution_count": 113,
      "outputs": [
        {
          "output_type": "execute_result",
          "data": {
            "text/plain": [
              "array([9.77673901, 1.93527587, 1.08406418, 0.71308511, 0.65387211,\n",
              "       0.51301292, 0.31923652, 0.26233662, 0.22416034, 0.18430129,\n",
              "       0.13208077, 0.01103317, 0.07709517, 0.02345977, 0.04058785,\n",
              "       0.04965932])"
            ]
          },
          "metadata": {
            "tags": []
          },
          "execution_count": 113
        }
      ]
    },
    {
      "cell_type": "code",
      "metadata": {
        "id": "4byGIfDmcJOo",
        "colab_type": "code",
        "colab": {
          "base_uri": "https://localhost:8080/",
          "height": 34
        },
        "outputId": "6fcea15a-20bf-4669-a876-8fedf787ac13"
      },
      "source": [
        "E.shape"
      ],
      "execution_count": 114,
      "outputs": [
        {
          "output_type": "execute_result",
          "data": {
            "text/plain": [
              "(16,)"
            ]
          },
          "metadata": {
            "tags": []
          },
          "execution_count": 114
        }
      ]
    },
    {
      "cell_type": "code",
      "metadata": {
        "id": "wCyv4yhZckcX",
        "colab_type": "code",
        "colab": {
          "base_uri": "https://localhost:8080/",
          "height": 1000
        },
        "outputId": "ca224114-9b0c-4daa-9883-c5ddd5bfb2ce"
      },
      "source": [
        "#Eigen vectors\n",
        "E_V"
      ],
      "execution_count": 115,
      "outputs": [
        {
          "output_type": "execute_result",
          "data": {
            "text/plain": [
              "array([[-0.23288808, -0.41096554, -0.09970085,  0.28715478, -0.13497013,\n",
              "         0.28937207, -0.02773416,  0.01223896, -0.22289342, -0.02857962,\n",
              "        -0.04631494, -0.71036437, -0.02306917,  0.05733302,  0.11413858,\n",
              "        -0.08655908],\n",
              "       [ 0.22812621,  0.41418638,  0.11719168, -0.29481412,  0.13242538,\n",
              "        -0.31552449,  0.02537825, -0.04904323,  0.23634008,  0.04689151,\n",
              "         0.0508671 , -0.69783024,  0.01382871,  0.02434311, -0.08472913,\n",
              "         0.00667398],\n",
              "       [-0.02704686, -0.44116593,  0.70652935, -0.073248  ,  0.12542265,\n",
              "        -0.03558221,  0.27388965,  0.15718468,  0.2558197 , -0.11402451,\n",
              "         0.30298219,  0.0121906 ,  0.06227602,  0.04072399,  0.07240788,\n",
              "        -0.04691302],\n",
              "       [-0.30952265,  0.09697852, -0.01870917,  0.068773  ,  0.02528097,\n",
              "        -0.16317656, -0.02916258, -0.06070495,  0.11428681,  0.06116268,\n",
              "         0.00916835,  0.07051921, -0.18488738,  0.87483476,  0.03278082,\n",
              "        -0.18829957],\n",
              "       [-0.06601034,  0.45935163,  0.33770503,  0.69494725, -0.33142252,\n",
              "        -0.02370028, -0.0638323 ,  0.0621241 ,  0.09918199,  0.03016399,\n",
              "         0.13230932, -0.00926022,  0.07106318, -0.08595856,  0.07964958,\n",
              "         0.14894444],\n",
              "       [-0.29808427, -0.13048434, -0.09867646, -0.1393102 ,  0.06546132,\n",
              "        -0.14778536, -0.2099746 , -0.05108397,  0.16287069,  0.12466851,\n",
              "         0.07383563, -0.02704298,  0.05842572,  0.01194459,  0.39085268,\n",
              "         0.76653535],\n",
              "       [-0.27178834,  0.08400583,  0.19043825, -0.19179496, -0.13832524,\n",
              "        -0.21158967, -0.3876552 , -0.03318384, -0.20684371, -0.74882612,\n",
              "        -0.08373816, -0.00231343, -0.08672212, -0.08972365,  0.0167531 ,\n",
              "        -0.06592622],\n",
              "       [-0.29473701, -0.09379545,  0.05441622, -0.02059312, -0.04515153,\n",
              "        -0.14009497, -0.26372035, -0.13509424,  0.39998175,  0.25353173,\n",
              "        -0.38448417,  0.02583959,  0.42760128, -0.20682316,  0.13498949,\n",
              "        -0.41818995],\n",
              "       [-0.29770225, -0.18600806,  0.00711291,  0.11227718,  0.00745898,\n",
              "        -0.14809973, -0.09756727, -0.12694298,  0.13505893,  0.10483096,\n",
              "         0.0463754 , -0.0254603 , -0.12253615, -0.10752567, -0.84697813,\n",
              "         0.20128678],\n",
              "       [-0.29675137,  0.03672213, -0.16681554,  0.05897763,  0.11743266,\n",
              "        -0.24346584,  0.11653636, -0.10534511,  0.05856668,  0.13310493,\n",
              "         0.36408444,  0.01274738, -0.56915685, -0.38582334,  0.25384838,\n",
              "        -0.30072387],\n",
              "       [-0.27964521,  0.10274086, -0.30707775, -0.00721273,  0.05571437,\n",
              "        -0.16264219,  0.25146248,  0.0821421 , -0.17905379, -0.13604748,\n",
              "         0.49801724, -0.00391559,  0.63606337,  0.01099673, -0.0736536 ,\n",
              "        -0.09289105],\n",
              "       [-0.27235885,  0.13198699,  0.01111765,  0.11797761,  0.208972  ,\n",
              "        -0.05904916,  0.67967026, -0.13548109,  0.01241168, -0.2275452 ,\n",
              "        -0.53164474, -0.01323432, -0.01979244, -0.07407157,  0.03179137,\n",
              "         0.15891416],\n",
              "       [-0.1962752 ,  0.26083183,  0.034257  ,  0.07144354,  0.67546044,\n",
              "         0.54910332, -0.25270336,  0.12405745,  0.16450137, -0.1125629 ,\n",
              "         0.07754767, -0.0140227 ,  0.00670446, -0.03666975, -0.04437815,\n",
              "        -0.02922596],\n",
              "       [-0.26629974,  0.12082127, -0.04717638, -0.23144717, -0.23109633,\n",
              "         0.03272215,  0.07675122,  0.8559547 ,  0.04910907,  0.13535566,\n",
              "        -0.14930267, -0.02264081, -0.12187173, -0.05164366, -0.0678964 ,\n",
              "        -0.00116652],\n",
              "       [-0.21701211,  0.1931656 ,  0.03834851, -0.38884188, -0.4791524 ,\n",
              "         0.53688727,  0.18798688, -0.35348278,  0.22978253, -0.01442646,\n",
              "         0.17119889,  0.00472729, -0.03622766, -0.00634055, -0.03135359,\n",
              "         0.01117337],\n",
              "       [-0.24006835,  0.16665045,  0.43198888, -0.2025787 ,  0.11277952,\n",
              "         0.00590274, -0.03685044, -0.13386162, -0.66382629,  0.45670456,\n",
              "        -0.05097186,  0.00842332,  0.04748396, -0.0262193 , -0.00736791,\n",
              "        -0.00117999]])"
            ]
          },
          "metadata": {
            "tags": []
          },
          "execution_count": 115
        }
      ]
    },
    {
      "cell_type": "code",
      "metadata": {
        "id": "-2Qf7RmE-Qz-",
        "colab_type": "code",
        "colab": {
          "base_uri": "https://localhost:8080/",
          "height": 34
        },
        "outputId": "bfe2693d-9ce3-4e18-a8db-add131496fd5"
      },
      "source": [
        "E_V.shape"
      ],
      "execution_count": 116,
      "outputs": [
        {
          "output_type": "execute_result",
          "data": {
            "text/plain": [
              "(16, 16)"
            ]
          },
          "metadata": {
            "tags": []
          },
          "execution_count": 116
        }
      ]
    },
    {
      "cell_type": "code",
      "metadata": {
        "id": "tI9iA--i-SaH",
        "colab_type": "code",
        "colab": {}
      },
      "source": [
        "#Selecting first 3 eigen values and veriance = 96.61%\n",
        "#(100*(E[0] / sum(E)))+(100*(E[1] / sum(E)))+(100*(E[2] / sum(E)))\n"
      ],
      "execution_count": 118,
      "outputs": []
    },
    {
      "cell_type": "code",
      "metadata": {
        "id": "YAFNdeph-5u3",
        "colab_type": "code",
        "colab": {}
      },
      "source": [
        "eigen1 = E_V.T[0]"
      ],
      "execution_count": 119,
      "outputs": []
    },
    {
      "cell_type": "code",
      "metadata": {
        "id": "qEzoasmUBQ1t",
        "colab_type": "code",
        "colab": {}
      },
      "source": [
        "eigen2 = E_V.T[1]"
      ],
      "execution_count": 120,
      "outputs": []
    },
    {
      "cell_type": "code",
      "metadata": {
        "id": "0t7TzWkABUdM",
        "colab_type": "code",
        "colab": {}
      },
      "source": [
        "eigen3 = E_V.T[2]"
      ],
      "execution_count": 121,
      "outputs": []
    },
    {
      "cell_type": "code",
      "metadata": {
        "id": "2uP7FxzWBXN-",
        "colab_type": "code",
        "colab": {}
      },
      "source": [
        "x_pca = X.dot(eigen1)"
      ],
      "execution_count": 122,
      "outputs": []
    },
    {
      "cell_type": "code",
      "metadata": {
        "id": "48H1yxVvBnCa",
        "colab_type": "code",
        "colab": {}
      },
      "source": [
        "y_pca = X.dot(eigen2)"
      ],
      "execution_count": 123,
      "outputs": []
    },
    {
      "cell_type": "code",
      "metadata": {
        "id": "6VTCKnHzBqul",
        "colab_type": "code",
        "colab": {}
      },
      "source": [
        "z_pca = X.dot(eigen3)"
      ],
      "execution_count": 124,
      "outputs": []
    },
    {
      "cell_type": "code",
      "metadata": {
        "id": "WBMpF-1TEYwi",
        "colab_type": "code",
        "colab": {
          "base_uri": "https://localhost:8080/",
          "height": 221
        },
        "outputId": "7fb02ab6-23a6-43ff-c0e5-b572b8c7b63a"
      },
      "source": [
        "x_pca.std"
      ],
      "execution_count": 125,
      "outputs": [
        {
          "output_type": "execute_result",
          "data": {
            "text/plain": [
              "<bound method Series.std of 0     -202.808218\n",
              "1     -209.303508\n",
              "2     -207.666725\n",
              "3     -219.112368\n",
              "4     -227.000915\n",
              "          ...    \n",
              "247   -188.011804\n",
              "248   -242.831389\n",
              "249   -235.956593\n",
              "250   -231.719129\n",
              "251   -248.353546\n",
              "Length: 252, dtype: float64>"
            ]
          },
          "metadata": {
            "tags": []
          },
          "execution_count": 125
        }
      ]
    },
    {
      "cell_type": "markdown",
      "metadata": {
        "id": "yHgaLOvT9nnJ",
        "colab_type": "text"
      },
      "source": [
        "Plot in 2D"
      ]
    },
    {
      "cell_type": "code",
      "metadata": {
        "id": "f_Pph_RF7ZQP",
        "colab_type": "code",
        "colab": {
          "base_uri": "https://localhost:8080/",
          "height": 296
        },
        "outputId": "182bab40-1585-4879-d7d5-0e2bd17a5c40"
      },
      "source": [
        "plt.figure()\n",
        "plt.scatter(x_pca, y_pca, c=\"g\", marker='o')\n",
        "\n",
        "plt.xlabel('X-axis')\n",
        "plt.ylabel('Y-axis')"
      ],
      "execution_count": 126,
      "outputs": [
        {
          "output_type": "execute_result",
          "data": {
            "text/plain": [
              "Text(0, 0.5, 'Y-axis')"
            ]
          },
          "metadata": {
            "tags": []
          },
          "execution_count": 126
        },
        {
          "output_type": "display_data",
          "data": {
            "image/png": "[encoded data removed]",
            "text/plain": [
              "<Figure size 432x288 with 1 Axes>"
            ]
          },
          "metadata": {
            "tags": [],
            "needs_background": "light"
          }
        }
      ]
    },
    {
      "cell_type": "markdown",
      "metadata": {
        "id": "AlLWFEMU9sB4",
        "colab_type": "text"
      },
      "source": [
        "Plot in 3D"
      ]
    },
    {
      "cell_type": "code",
      "metadata": {
        "id": "LIhpiRwjBtfc",
        "colab_type": "code",
        "colab": {
          "base_uri": "https://localhost:8080/",
          "height": 248
        },
        "outputId": "0654fd76-cff8-40f9-a19b-06afb822ee56"
      },
      "source": [
        "fig = plt.figure()\n",
        "ax = fig.add_subplot(projection='3d')\n",
        "\n",
        "ax.scatter(x_pca, y_pca, z_pca, c='g', marker='o')\n",
        "\n",
        "ax.set_xlabel('X Label')\n",
        "ax.set_ylabel('Y Label')\n",
        "ax.set_zlabel('Z Label')\n",
        "\n",
        "plt.show()"
      ],
      "execution_count": 127,
      "outputs": [
        {
          "output_type": "display_data",
          "data": {
            "image/png": "[encoded data removed]",
            "text/plain": [
              "<Figure size 432x288 with 1 Axes>"
            ]
          },
          "metadata": {
            "tags": [],
            "needs_background": "light"
          }
        }
      ]
    }
  ]
}
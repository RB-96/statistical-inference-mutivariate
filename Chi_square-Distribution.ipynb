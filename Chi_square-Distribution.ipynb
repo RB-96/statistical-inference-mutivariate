{
 "cells": [
  {
   "cell_type": "markdown",
   "metadata": {},
   "source": [
    "# Chi square distribution: give probability value:"
   ]
  },
  {
   "cell_type": "code",
   "execution_count": 4,
   "metadata": {},
   "outputs": [
    {
     "name": "stdout",
     "output_type": "stream",
     "text": [
      "Enter chi_square value: 12\n",
      "Enter degree of freedom: 4\n",
      "probability of 12.0 = 0.9826487347633355\n"
     ]
    }
   ],
   "source": [
    "import scipy.stats as st\n",
    "\n",
    "val = float(input('Enter chi_square value: '))\n",
    "dof = int(input('Enter degree of freedom: '))\n",
    "\n",
    "probability = st.chi2.cdf(val,dof)\n",
    "print(f'probability of {val} = {probability}')"
   ]
  },
  {
   "cell_type": "markdown",
   "metadata": {},
   "source": [
    "# Give Chi_score\n"
   ]
  },
  {
   "cell_type": "code",
   "execution_count": 7,
   "metadata": {},
   "outputs": [
    {
     "name": "stdout",
     "output_type": "stream",
     "text": [
      "Enter probability value: 0.65\n",
      "Enter degree of freedom: 10\n",
      "chi_score with 0.65 prob. and 10 dof = 11.097142281931776\n"
     ]
    }
   ],
   "source": [
    "import scipy.stats as st\n",
    "\n",
    "val = float(input('Enter probability value: '))\n",
    "dof = int(input('Enter degree of freedom: '))\n",
    "\n",
    "chi = st.chi2.ppf(val,dof)\n",
    "print(f'chi_score with {val} prob. and {dof} dof = {chi}')"
   ]
  },
  {
   "cell_type": "code",
   "execution_count": null,
   "metadata": {},
   "outputs": [],
   "source": []
  }
 ],
 "metadata": {
  "kernelspec": {
   "display_name": "Python 3",
   "language": "python",
   "name": "python3"
  },
  "language_info": {
   "codemirror_mode": {
    "name": "ipython",
    "version": 3
   },
   "file_extension": ".py",
   "mimetype": "text/x-python",
   "name": "python",
   "nbconvert_exporter": "python",
   "pygments_lexer": "ipython3",
   "version": "3.7.4"
  }
 },
 "nbformat": 4,
 "nbformat_minor": 2
}

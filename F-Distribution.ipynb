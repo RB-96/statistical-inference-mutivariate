{
 "cells": [
  {
   "cell_type": "markdown",
   "metadata": {},
   "source": [
    "# F Distribution: Give probability"
   ]
  },
  {
   "cell_type": "code",
   "execution_count": 2,
   "metadata": {},
   "outputs": [
    {
     "name": "stdout",
     "output_type": "stream",
     "text": [
      "Enter F_score: 12.9\n",
      "Enter degree of freedom for one sample: 5\n",
      "Ennter degree of freedom for another sample: 4\n",
      "probability of 12.9 = 0.9859433068602198\n"
     ]
    }
   ],
   "source": [
    "import scipy.stats as st\n",
    "\n",
    "val = float(input('Enter F_score: '))\n",
    "dof1 = int(input('Enter degree of freedom for one sample: '))\n",
    "dof2 = int(input('Ennter degree of freedom for another sample: '))\n",
    "\n",
    "probability = st.f.cdf(val,dof1,dof2)\n",
    "print(f'probability of {val} = {probability}')"
   ]
  },
  {
   "cell_type": "markdown",
   "metadata": {},
   "source": [
    "# Give f_score:"
   ]
  },
  {
   "cell_type": "code",
   "execution_count": 4,
   "metadata": {},
   "outputs": [
    {
     "name": "stdout",
     "output_type": "stream",
     "text": [
      "Enter probability value: 0.98594\n",
      "Enter degree of freedom for one sample: 5\n",
      "Ennter degree of freedom for another sample: 4\n",
      "chi_score with 0.98594 prob.  = 12.898338465989806\n"
     ]
    }
   ],
   "source": [
    "import scipy.stats as st\n",
    "\n",
    "val = float(input('Enter probability value: '))\n",
    "dof1 = int(input('Enter degree of freedom for one sample: '))\n",
    "dof2 = int(input('Ennter degree of freedom for another sample: '))\n",
    "\n",
    "f_score = st.f.ppf(val,dof1,dof2)\n",
    "print(f'chi_score with {val} prob.  = {f_score}')"
   ]
  },
  {
   "cell_type": "code",
   "execution_count": null,
   "metadata": {},
   "outputs": [],
   "source": []
  }
 ],
 "metadata": {
  "kernelspec": {
   "display_name": "Python 3",
   "language": "python",
   "name": "python3"
  },
  "language_info": {
   "codemirror_mode": {
    "name": "ipython",
    "version": 3
   },
   "file_extension": ".py",
   "mimetype": "text/x-python",
   "name": "python",
   "nbconvert_exporter": "python",
   "pygments_lexer": "ipython3",
   "version": "3.7.4"
  }
 },
 "nbformat": 4,
 "nbformat_minor": 2
}
